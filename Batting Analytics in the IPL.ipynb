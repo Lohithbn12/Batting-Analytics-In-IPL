{
 "cells": [
  {
   "cell_type": "markdown",
   "id": "033a44a7",
   "metadata": {},
   "source": [
    "## Batting Analytics in the IPL"
   ]
  },
  {
   "cell_type": "code",
   "execution_count": 38,
   "id": "24883bf1",
   "metadata": {},
   "outputs": [],
   "source": [
    "import pandas as pd\n",
    "import numpy as np\n",
    "import matplotlib.pyplot as plt\n",
    "import seaborn as sns\n",
    "import plotly.express as px"
   ]
  },
  {
   "cell_type": "markdown",
   "id": "4117a933",
   "metadata": {},
   "source": [
    "### Objectives:\n",
    "* Analyze batting averages of players over different IPL seasons to identify trends and top performers.\n",
    "* Compare strike rates of batsmen to determine most aggressive batsmen.\n",
    "* Evaluate the impact of player nationality on performance.\n",
    "* Rank batsmen based on different batting metrics like average, strike rate, consistency etc.\n",
    "* To build an Classification model that can accurately categorize cricket players as Indian or Overseas based on their performance statistics."
   ]
  },
  {
   "cell_type": "markdown",
   "id": "4f5f780a",
   "metadata": {},
   "source": [
    "### Data Description.\n",
    "* Pos - The position of a player in a particular season based on total runs.\n",
    "* Player - The name of the player.\n",
    "* Mat - Total matches in which a player was included in the playing 11.\n",
    "* Inns - The number of innings in which the batsman actually batted.\n",
    "* NO - The number of times the batsman was not out at the conclusion of an innings they batted in.\n",
    "* Runs - Total Runs scored in a particular season.\n",
    "* HS - The highest score ever made by the batsman in the season.\n",
    "* Avg - Batting Average - The total number of runs divided by the total number of innings in which the batsman was out. Ave = Runs/[I – NO] (also Avge or Avg.).\n",
    "* BF - Balls Faced - The total number of balls received, including no-balls but not including wides.\n",
    "* SR - Strike Rate - The average number of runs scored per 100 balls faced. (SR = [100 * Runs]/BF).\n",
    "* 100 - Number of times 100 runs(centuries) scored by a player.\n",
    "* 50 - Number of times 50 runs(half-centuries) scored by a player.\n",
    "* 4s - Number of times a player hits a 4.\n",
    "* 6s - Number of times a player hits a 6.\n",
    "* Nationality - Whether the palyed is indian or overseas.\n",
    "* Team - The team the player belongs to.\n",
    "* Season - The year the record belongs to."
   ]
  },
  {
   "cell_type": "markdown",
   "id": "f41cc772",
   "metadata": {},
   "source": [
    "\n",
    "### Data Preparation and Cleaning\n",
    "\n",
    "Let’s start by reading the csv file to Pandas DataFrame."
   ]
  },
  {
   "cell_type": "code",
   "execution_count": 2,
   "id": "9c2a57a0",
   "metadata": {},
   "outputs": [],
   "source": [
    "import pandas as pd\n",
    "import warnings\n",
    "warnings.filterwarnings('ignore')\n",
    "df = pd.read_csv(\"C:/Users/lohithlikith/Documents/Datasets/Matches IPL/Matches.csv\")"
   ]
  },
  {
   "cell_type": "code",
   "execution_count": 3,
   "id": "70871dc3",
   "metadata": {},
   "outputs": [
    {
     "name": "stdout",
     "output_type": "stream",
     "text": [
      "<class 'pandas.core.frame.DataFrame'>\n",
      "RangeIndex: 1046 entries, 0 to 1045\n",
      "Data columns (total 17 columns):\n",
      " #   Column       Non-Null Count  Dtype  \n",
      "---  ------       --------------  -----  \n",
      " 0   POS          1046 non-null   int64  \n",
      " 1   PLAYER       1046 non-null   object \n",
      " 2   Mat          1046 non-null   int64  \n",
      " 3   Inns         1046 non-null   int64  \n",
      " 4   NO           1046 non-null   int64  \n",
      " 5   Runs         1046 non-null   int64  \n",
      " 6   HS           1046 non-null   int64  \n",
      " 7   Avg          1046 non-null   float64\n",
      " 8   BF           1046 non-null   int64  \n",
      " 9   SR           1046 non-null   float64\n",
      " 10  100          1046 non-null   int64  \n",
      " 11  50           1046 non-null   int64  \n",
      " 12  4s           1046 non-null   int64  \n",
      " 13  6s           1046 non-null   int64  \n",
      " 14  Nationality  1046 non-null   object \n",
      " 15  Team         1046 non-null   object \n",
      " 16  Season       1046 non-null   int64  \n",
      "dtypes: float64(2), int64(12), object(3)\n",
      "memory usage: 139.1+ KB\n"
     ]
    }
   ],
   "source": [
    "df.info()"
   ]
  },
  {
   "cell_type": "code",
   "execution_count": 4,
   "id": "df2510f6",
   "metadata": {},
   "outputs": [
    {
     "data": {
      "text/html": [
       "<div>\n",
       "<style scoped>\n",
       "    .dataframe tbody tr th:only-of-type {\n",
       "        vertical-align: middle;\n",
       "    }\n",
       "\n",
       "    .dataframe tbody tr th {\n",
       "        vertical-align: top;\n",
       "    }\n",
       "\n",
       "    .dataframe thead th {\n",
       "        text-align: right;\n",
       "    }\n",
       "</style>\n",
       "<table border=\"1\" class=\"dataframe\">\n",
       "  <thead>\n",
       "    <tr style=\"text-align: right;\">\n",
       "      <th></th>\n",
       "      <th>POS</th>\n",
       "      <th>Mat</th>\n",
       "      <th>Inns</th>\n",
       "      <th>NO</th>\n",
       "      <th>Runs</th>\n",
       "      <th>HS</th>\n",
       "      <th>Avg</th>\n",
       "      <th>BF</th>\n",
       "      <th>SR</th>\n",
       "      <th>100</th>\n",
       "      <th>50</th>\n",
       "      <th>4s</th>\n",
       "      <th>6s</th>\n",
       "      <th>Season</th>\n",
       "    </tr>\n",
       "  </thead>\n",
       "  <tbody>\n",
       "    <tr>\n",
       "      <th>count</th>\n",
       "      <td>1046.000000</td>\n",
       "      <td>1046.000000</td>\n",
       "      <td>1046.000000</td>\n",
       "      <td>1046.000000</td>\n",
       "      <td>1046.000000</td>\n",
       "      <td>1046.000000</td>\n",
       "      <td>1046.000000</td>\n",
       "      <td>1046.000000</td>\n",
       "      <td>1046.000000</td>\n",
       "      <td>1046.000000</td>\n",
       "      <td>1046.000000</td>\n",
       "      <td>1046.000000</td>\n",
       "      <td>1046.000000</td>\n",
       "      <td>1046.000000</td>\n",
       "    </tr>\n",
       "    <tr>\n",
       "      <th>mean</th>\n",
       "      <td>50.418738</td>\n",
       "      <td>10.341300</td>\n",
       "      <td>8.500000</td>\n",
       "      <td>1.815488</td>\n",
       "      <td>180.184512</td>\n",
       "      <td>47.032505</td>\n",
       "      <td>24.266233</td>\n",
       "      <td>138.721797</td>\n",
       "      <td>126.403929</td>\n",
       "      <td>0.050669</td>\n",
       "      <td>0.935946</td>\n",
       "      <td>16.647228</td>\n",
       "      <td>6.782027</td>\n",
       "      <td>2013.648184</td>\n",
       "    </tr>\n",
       "    <tr>\n",
       "      <th>std</th>\n",
       "      <td>28.882680</td>\n",
       "      <td>4.599059</td>\n",
       "      <td>4.519972</td>\n",
       "      <td>1.728287</td>\n",
       "      <td>160.612057</td>\n",
       "      <td>28.275895</td>\n",
       "      <td>14.468440</td>\n",
       "      <td>116.601296</td>\n",
       "      <td>28.186681</td>\n",
       "      <td>0.255681</td>\n",
       "      <td>1.430598</td>\n",
       "      <td>16.469802</td>\n",
       "      <td>7.718635</td>\n",
       "      <td>3.492238</td>\n",
       "    </tr>\n",
       "    <tr>\n",
       "      <th>min</th>\n",
       "      <td>1.000000</td>\n",
       "      <td>1.000000</td>\n",
       "      <td>1.000000</td>\n",
       "      <td>0.000000</td>\n",
       "      <td>8.000000</td>\n",
       "      <td>4.000000</td>\n",
       "      <td>0.000000</td>\n",
       "      <td>3.000000</td>\n",
       "      <td>47.360000</td>\n",
       "      <td>0.000000</td>\n",
       "      <td>0.000000</td>\n",
       "      <td>0.000000</td>\n",
       "      <td>0.000000</td>\n",
       "      <td>2008.000000</td>\n",
       "    </tr>\n",
       "    <tr>\n",
       "      <th>25%</th>\n",
       "      <td>26.000000</td>\n",
       "      <td>6.000000</td>\n",
       "      <td>4.000000</td>\n",
       "      <td>0.000000</td>\n",
       "      <td>47.000000</td>\n",
       "      <td>23.000000</td>\n",
       "      <td>14.100000</td>\n",
       "      <td>40.000000</td>\n",
       "      <td>109.532500</td>\n",
       "      <td>0.000000</td>\n",
       "      <td>0.000000</td>\n",
       "      <td>4.000000</td>\n",
       "      <td>1.000000</td>\n",
       "      <td>2011.000000</td>\n",
       "    </tr>\n",
       "    <tr>\n",
       "      <th>50%</th>\n",
       "      <td>50.000000</td>\n",
       "      <td>11.000000</td>\n",
       "      <td>8.000000</td>\n",
       "      <td>1.000000</td>\n",
       "      <td>125.000000</td>\n",
       "      <td>43.000000</td>\n",
       "      <td>22.500000</td>\n",
       "      <td>101.000000</td>\n",
       "      <td>124.325000</td>\n",
       "      <td>0.000000</td>\n",
       "      <td>0.000000</td>\n",
       "      <td>11.000000</td>\n",
       "      <td>4.000000</td>\n",
       "      <td>2014.000000</td>\n",
       "    </tr>\n",
       "    <tr>\n",
       "      <th>75%</th>\n",
       "      <td>75.000000</td>\n",
       "      <td>14.000000</td>\n",
       "      <td>13.000000</td>\n",
       "      <td>3.000000</td>\n",
       "      <td>282.000000</td>\n",
       "      <td>66.000000</td>\n",
       "      <td>31.175000</td>\n",
       "      <td>214.750000</td>\n",
       "      <td>140.245000</td>\n",
       "      <td>0.000000</td>\n",
       "      <td>1.000000</td>\n",
       "      <td>25.000000</td>\n",
       "      <td>9.000000</td>\n",
       "      <td>2017.000000</td>\n",
       "    </tr>\n",
       "    <tr>\n",
       "      <th>max</th>\n",
       "      <td>100.000000</td>\n",
       "      <td>19.000000</td>\n",
       "      <td>19.000000</td>\n",
       "      <td>10.000000</td>\n",
       "      <td>973.000000</td>\n",
       "      <td>175.000000</td>\n",
       "      <td>152.000000</td>\n",
       "      <td>640.000000</td>\n",
       "      <td>333.330000</td>\n",
       "      <td>4.000000</td>\n",
       "      <td>9.000000</td>\n",
       "      <td>88.000000</td>\n",
       "      <td>59.000000</td>\n",
       "      <td>2019.000000</td>\n",
       "    </tr>\n",
       "  </tbody>\n",
       "</table>\n",
       "</div>"
      ],
      "text/plain": [
       "               POS          Mat         Inns           NO         Runs  \\\n",
       "count  1046.000000  1046.000000  1046.000000  1046.000000  1046.000000   \n",
       "mean     50.418738    10.341300     8.500000     1.815488   180.184512   \n",
       "std      28.882680     4.599059     4.519972     1.728287   160.612057   \n",
       "min       1.000000     1.000000     1.000000     0.000000     8.000000   \n",
       "25%      26.000000     6.000000     4.000000     0.000000    47.000000   \n",
       "50%      50.000000    11.000000     8.000000     1.000000   125.000000   \n",
       "75%      75.000000    14.000000    13.000000     3.000000   282.000000   \n",
       "max     100.000000    19.000000    19.000000    10.000000   973.000000   \n",
       "\n",
       "                HS          Avg           BF           SR          100  \\\n",
       "count  1046.000000  1046.000000  1046.000000  1046.000000  1046.000000   \n",
       "mean     47.032505    24.266233   138.721797   126.403929     0.050669   \n",
       "std      28.275895    14.468440   116.601296    28.186681     0.255681   \n",
       "min       4.000000     0.000000     3.000000    47.360000     0.000000   \n",
       "25%      23.000000    14.100000    40.000000   109.532500     0.000000   \n",
       "50%      43.000000    22.500000   101.000000   124.325000     0.000000   \n",
       "75%      66.000000    31.175000   214.750000   140.245000     0.000000   \n",
       "max     175.000000   152.000000   640.000000   333.330000     4.000000   \n",
       "\n",
       "                50           4s           6s       Season  \n",
       "count  1046.000000  1046.000000  1046.000000  1046.000000  \n",
       "mean      0.935946    16.647228     6.782027  2013.648184  \n",
       "std       1.430598    16.469802     7.718635     3.492238  \n",
       "min       0.000000     0.000000     0.000000  2008.000000  \n",
       "25%       0.000000     4.000000     1.000000  2011.000000  \n",
       "50%       0.000000    11.000000     4.000000  2014.000000  \n",
       "75%       1.000000    25.000000     9.000000  2017.000000  \n",
       "max       9.000000    88.000000    59.000000  2019.000000  "
      ]
     },
     "execution_count": 4,
     "metadata": {},
     "output_type": "execute_result"
    }
   ],
   "source": [
    "df.describe()"
   ]
  },
  {
   "cell_type": "code",
   "execution_count": 5,
   "id": "27ba3467",
   "metadata": {},
   "outputs": [
    {
     "data": {
      "text/plain": [
       "Index(['POS', 'PLAYER', 'Mat', 'Inns', 'NO', 'Runs', 'HS', 'Avg', 'BF', 'SR',\n",
       "       '100', '50', '4s', '6s', 'Nationality', 'Team', 'Season'],\n",
       "      dtype='object')"
      ]
     },
     "execution_count": 5,
     "metadata": {},
     "output_type": "execute_result"
    }
   ],
   "source": [
    "df.columns"
   ]
  },
  {
   "cell_type": "markdown",
   "id": "64db15ee",
   "metadata": {},
   "source": [
    "Let’s view the unique values of each column to help us understand the dataset better."
   ]
  },
  {
   "cell_type": "code",
   "execution_count": 6,
   "id": "7f15b1cf",
   "metadata": {},
   "outputs": [
    {
     "name": "stdout",
     "output_type": "stream",
     "text": [
      "[  1   2   3   4   5   6   7   8   9  10  11  12  13  14  15  16  17  18\n",
      "  19  20  21  22  23  24  25  26  27  28  29  30  31  32  33  34  35  36\n",
      "  37  38  39  40  41  42  43  44  45  46  47  48  49  50  51  52  53  54\n",
      "  55  56  57  58  59  60  61  62  63  64  65  66  67  68  69  70  71  72\n",
      "  73  74  75  76  77  78  79  80  81  82  83  84  85  86  87  88  89  90\n",
      "  91  92  93  94  95  96  97  98  99 100]\n",
      "['David Warner' 'KL Rahul' 'Quinton de Kock' 'Shikhar Dhawan'\n",
      " 'Andre Russell' 'Chris Gayle' 'Rishabh Pant' 'Virat Kohli' 'Shreyas Iyer'\n",
      " 'Jonny Bairstow' 'AB de Villiers' 'Suryakumar Yadav' 'MS Dhoni'\n",
      " 'Chris Lynn' 'Rohit Sharma' 'Hardik Pandya' 'Shane Watson'\n",
      " 'Faf du Plessis' 'Ajinkya Rahane' 'Suresh Raina' 'Parthiv Patel'\n",
      " 'Prithvi Shaw' 'Manish Pandey' 'Nitish Rana' 'Sanju Samson'\n",
      " 'Mayank Agarwal' 'Steve Smith' 'Jos Buttler' 'Shubman Gill'\n",
      " 'Ambati Rayudu' 'Robin Uthappa' 'Kieron Pollard' 'Dinesh Karthik'\n",
      " 'Vijay Shankar' 'Moeen Ali' 'David Miller' 'Marcus Stoinis'\n",
      " 'Colin Ingram' 'Krunal Pandya' 'Sarfaraz Khan' 'Nicholas Pooran'\n",
      " 'Mandeep Singh' 'Kedar Jadhav' 'Riyan Parag' 'Kane Williamson'\n",
      " 'Sunil Narine' 'Rahul Tripathi' 'Ben Stokes' 'Mohammad Nabi' 'Axar Patel'\n",
      " 'Ravindra Jadeja' 'Ishan Kishan' 'Yuvraj Singh' 'Gurkeerat Mann Singh'\n",
      " 'Sam Curran' 'Shimron Hetmyer' 'Wriddhiman Saha' 'Colin Munro'\n",
      " 'Martin Guptill' 'Dwayne Bravo' 'Sherfane Rutherford' 'Liam Livingstone'\n",
      " 'Stuart Binny' 'Jofra Archer' 'Deepak Hooda' 'Murali Vijay'\n",
      " 'Shreyas Gopal' 'Akshdeep Nath' 'Evin Lewis' 'Colin de Grandhomme'\n",
      " 'Piyush Chawla' 'Ravichandran Ashwin' 'Shivam Dube' 'Yusuf Pathan'\n",
      " 'Rinku Singh' 'Rashid Khan' 'Chris Morris' 'Mitchell Santner'\n",
      " 'Rahul Tewatia' 'Umesh Yadav' 'Amit Mishra' 'Harpreet Brar'\n",
      " 'Prayas Ray Barman' 'Keemo Paul' 'Ben Cutting' 'Krishnappa Gowtham'\n",
      " 'Simran Singh' 'Alzarri Joseph' 'Siddhesh Lad' 'Shardul Thakur'\n",
      " 'Kagiso Rabada' 'Bhuvneshwar Kumar' 'Kuldeep Yadav' 'Rahul Chahar'\n",
      " 'Mitchell McClenaghan' 'Carlos Brathwaite' 'Ishant Sharma'\n",
      " 'Shakib Al Hasan' 'Pawan Negi' 'Tim Southee' 'Karun Nair' 'Glenn Maxwell'\n",
      " 'Alex Hales' 'Aaron Finch' 'Brendon McCullum' 'Jason Roy' 'Sam Billings'\n",
      " 'Gautam Gambhir' 'Washington Sundar' 'Abhishek Sharma' 'Harshal Patel'\n",
      " 'Heinrich Klaasen' 'Manan Vohra' 'Shreevats Goswami' 'Deepak Chahar'\n",
      " 'Jaydev Unadkat' 'Manoj Tiwary' 'JP Duminy' 'Andrew Tye'\n",
      " 'Harbhajan Singh' 'Dan Christian' 'Mohammed Siraj' 'Tom Curran'\n",
      " 'Mayank Markande' 'Mahipal Lomror' 'Chris Woakes' 'Corey Anderson'\n",
      " 'Mitchell Johnson' 'Shivam Mavi' 'Hashim Amla' 'Moises Henriques'\n",
      " 'Shaun Marsh' 'Travis Head' 'Lendl Simmons' 'Naman Ojha' 'Pat Cummins'\n",
      " 'Eoin Morgan' 'Saurabh Tiwary' 'Mohit Sharma' 'Karn Sharma'\n",
      " 'Sheldon Jackson' 'Mohammad Shami' 'Ishank Jaggi' 'Sreenath Aravind'\n",
      " 'Angelo Mathews' 'Bipul Sharma' 'Marlon Samuels' 'Aniket Choudhary'\n",
      " 'Vishnu Vinod' 'Aditya Tare' 'Jasprit Bumrah' 'Sachin Baby'\n",
      " 'Anureet Singh' 'Nathan Coulter-Nile' 'Ashish Reddy' 'Iqbal Abdulla'\n",
      " 'Rajagopal Sathish' 'Nikhil Naik' 'Jason Holder' 'Pradeep Sahu'\n",
      " 'Rishi Dhawan' 'Farhaan Behardien' 'Vinay Kumar' 'Dwayne Smith'\n",
      " 'George Bailey' 'Ravi Bopara' 'James Faulkner' 'David Wiese'\n",
      " 'Unmukt Chand' 'Virender Sehwag' 'Albie Morkel' 'Michael Hussey'\n",
      " 'Ryan ten Doeschate' 'Jagadeesha Suchith' 'Hanuma Vihari'\n",
      " 'Manvinder Bisla' 'Johan Botha' 'Dale Steyn' 'Praveen Kumar'\n",
      " 'Sean Abbott' 'Rilee Rossouw' 'Darren Sammy' 'Thisara Perera'\n",
      " 'Karanveer Singh' 'Mitchell Starc' 'Abu Nechim' 'Kevin Pietersen'\n",
      " 'Jacques Kallis' 'Cheteshwar Pujara' 'Chidhambaram Gautam' 'David Hussey'\n",
      " 'Yogesh Takawale' 'Brad Hodge' 'Sachin Rana' 'Venugopal Rao'\n",
      " 'Rajat Bhatia' 'Ross Taylor' 'Irfan Pathan' 'Abhishek Nayar'\n",
      " 'Jimmy Neesham' 'Ben Dunk' 'Kevon Cooper' 'Varun Aaron' 'Dhawal Kulkarni'\n",
      " 'Mithun Manhas' 'Ankit Sharma' 'Laxmi Ratan Shukla' 'Vijay Zol'\n",
      " 'Rahul Shukla' 'Nic Maddinson' 'Ravi Rampaul' 'Zaheer Khan' 'Imran Tahir'\n",
      " 'Rahul Dravid' 'Mahela Jayawardene' 'Adam Gilchrist' 'Sachin Tendulkar'\n",
      " 'Cameron White' 'Azhar Mahmood' 'Ben Rohrer' 'Manpreet Juneja'\n",
      " 'Dishant Yagnik' 'Subramaniam Badrinath' 'Biplap Samantray'\n",
      " 'Kumar Sangakkara' 'Akshath Reddy' 'Tillakaratne Dilshan' 'Debabrata Das'\n",
      " 'Luke Pomersbach' 'Morne Morkel' 'Ricky Ponting' 'Manpreet Gony'\n",
      " 'Arun Karthik' 'Owais Shah' 'James Franklin' 'Ashok Menaria'\n",
      " 'Yogesh Nagar' 'Nitin Saini' 'Richard Levi' 'Herschelle Gibbs'\n",
      " 'Siddharth Chitnis' 'Lasith Malinga' 'Andrew McDonald' 'Brett Lee'\n",
      " 'Robin Peterson' 'Daniel Vettori' 'Paul Valthaty' 'James Hopes'\n",
      " 'Andrew Symonds' 'Aiden Blizzard' 'Davy Jacobs' 'Ryan McLaren'\n",
      " 'Srikkanth Anirudha' 'Travis Birt' 'Tirumalasetti Suman' 'Abhishek Raut'\n",
      " 'Amit Paunikar' 'Sunny Singh' 'Mohammad Kaif' 'Asad Pathan' 'Ryan Harris'\n",
      " 'Abhimanyu Mithun' 'Sourav Ganguly' 'Matthew Hayden' 'Michael Lumb'\n",
      " 'Paul Collingwood' 'Abhishek Jhunjhunwala' 'Adam Voges' 'Faiz Fazal'\n",
      " 'Paras Dogra' 'Graeme Smith' 'Adrian Barath' 'Ajit Agarkar' 'Aditya Dole'\n",
      " 'Sanath Jayasuriya' 'MF Maharoof' 'Shanthakumaran Sreesanth'\n",
      " 'Sridharan Sriram' 'JM Kemp' 'Ashish Nehra' 'Murali Kartik'\n",
      " 'Mark Boucher' 'Simon Katich' 'Karan Goel' 'Roelof van der Merwe'\n",
      " 'Sunny Sohal' 'Shane Warne' 'Rob Quiney' 'Swapnil Asnodkar' 'Jacob Oram'\n",
      " 'Lee Carseldine' 'Andrew Flintoff' 'Jesse Ryder' 'Pinal Shah'\n",
      " 'Yashpal Singh' 'Dimitri Mascarenhas' 'Munaf Patel' 'Wilkin Mota'\n",
      " 'Ramesh Powar' 'Joginder Sharma' 'Shadab Jakati' 'Rajesh Bishnoi'\n",
      " 'Niraj Patel' 'Balachandra Akhil' 'Mahesh Rawat' 'Anil Kumble'\n",
      " 'Wasim Jaffer' 'Graham Napier' 'Rohan Raje' 'Tyron Henderson'\n",
      " 'Aakash Chopra' 'Stephen Fleming' 'Salman Butt' 'Shaun Pollock'\n",
      " 'Vidyut Sivaramakrishnan' 'Kamran Akmal' 'Misbah-ul-Haq'\n",
      " 'Ramnaresh Sarwan' 'Shoaib Malik' 'Umar Gul' 'Dominic Thornely'\n",
      " 'Sohail Tanvir' 'Luke Ronchi' 'Dinesh Salunkhe' 'Tatenda Taibu'\n",
      " 'Shivnarine Chanderpaul' 'Musavir Khote' 'Jagadeesh Arunkumar']\n",
      "[12 14 16 13 10 15 17  8 11  7  9  4  3  5  2  1  6 18 19]\n",
      "[12 14 16 13 10 15 17 11  8  5  6  9  7  4  3  2  1 19 18]\n",
      "[ 2  3  1  4  0  7  6  5  8  9 10]\n",
      "[692 593 529 521 510 490 488 464 463 445 442 424 416 405 402 398 396 393\n",
      " 383 373 353 344 342 332 319 311 296 282 279 253 244 220 213 211 184 183\n",
      " 180 168 165 162 160 156 143 141 123 115 110 106 101  98  95  90  86  84\n",
      "  81  80  73  71  70  67  64  63  61  48  46  42  40  37  34  32  26  25\n",
      "  21  20  19  18  16  15  14  12  11  10   9 735 684 659 602 555 548 530\n",
      " 512 498 497 491 480 455 441 411 382 370 368 357 351 316 304 301 286 284\n",
      " 275 260 252 245 239 228 226 212 203 201 196 169 153 148 134 133 131 127\n",
      " 126 122 120 108 102  99  96  89  87  85  77  75  74  65  60  59  57  55\n",
      "  52  51  50  49  47  44  36  29  27  24  23  17  13 641 479 420 395 388\n",
      " 386 385 366 338 333 310 308 295 281 277 272 267 264 256 250 243 234 229\n",
      " 227 224 216 200 188 154 151 144 142 138 137 132 105  91  83  79  78  38\n",
      "  33  31 973 848 687 501 489 453 397 394 361 334 291 270 255 248 237 236\n",
      " 207 198 195 191 186 182 179 177 161 159 157 146 136 124 119 114 113 111\n",
      " 104  92  88  66  54  43  30  22 562 540 513 505 482 439 436 419 414 399\n",
      " 380 374 372 364 347 339 327 326 312 293 287 259 251 249 225 206 204 189\n",
      " 187 181 145 117 116 112 109  82  76  39  35  28 660 566 552 528 523 446\n",
      " 410 401 390 377 376 371 362 359 335 330 325 324 309 303 294 273 268 265\n",
      " 257 240 232 209 205 166 164 152 149 147 125 121  62  58  56  45   8 733\n",
      " 708 634 543 538 471 461 418 406 360 331 307 300 241 235 233 193 174 158\n",
      "  53  41 590 560 495 462 433 432 409 358 340 336 305 289 285 261 238 197\n",
      " 194 176 172 140 107  72  69  68 608 557 553 504 492 438 434 392 378 343\n",
      " 283 230 150 135 103 618 572 520 493 458 356 346 292 278 276 218 185  94\n",
      " 365 280 271 246 221 219 175 171  97  93 616 534 518 472 435 421 349 320\n",
      " 302 299 199 192 178 163 128]\n",
      "[100  81  97  80  99  78  67 114  82  71  84  91  96 105  59  83  85 102\n",
      "  58  73  89  76  57  40  66  46  47  42  48  33  50  70  31  26  28  53\n",
      "  65  55  75  36  27  44  20  38  19  24  32  37  14  17  16  30  22  11\n",
      "   8   7  13   9  15  12  10   6   5 128  95 117  92  72  52  74  90  79\n",
      "  93 104  54  88  94  62  45  35  41  68  43  56  29  34  39  23  18 126\n",
      "  77  87  64  69  63  21 113 129 108  60  86  51  49  25 133  98  61 122\n",
      " 115   4 175 101 103 109 107 120 119 106 127 110 158 116]\n",
      "[ 69.2   53.9   35.26  34.73  56.66  40.83  37.53  33.14  30.86  55.62\n",
      "  44.2   32.61  83.2   31.15  28.92  44.66  23.41  36.    32.75  23.93\n",
      "  26.64  22.06  43.    34.4   34.2   25.53  39.87  38.87  32.88  23.5\n",
      "  31.33  34.87  31.62  20.33  27.5   26.62  52.75  18.4   16.63  45.\n",
      "  28.    41.25  18.    32.    22.28  17.87  20.5   19.16  18.33  35.33\n",
      "  16.83  24.5   32.66  23.75  17.2   21.    27.    16.    14.6   23.66\n",
      "  23.33  33.5   10.66  15.75  12.2   15.33  14.     8.4   13.33  18.5\n",
      "   6.8    5.33  26.    12.5   10.5    0.    19.     3.6    9.     6.\n",
      "  15.     7.     4.66   4.     3.66   5.5    2.25  52.5   52.61  54.91\n",
      "  39.64  54.8   48.18  36.57  49.8   38.23  32.73  53.33  75.83  37.08\n",
      "  31.5   37.36  29.38  28.46  40.88  22.31  21.93  28.72  23.38  25.08\n",
      "  23.83  25.81  22.91  28.88  25.2   27.22  21.72  22.8   25.11  53.\n",
      "  33.83  25.12  16.33  14.08  32.4   30.6   24.66  35.25  16.75  26.2\n",
      "  21.16  15.25  12.    30.    13.5   12.75  24.75  24.    17.8   21.75\n",
      "  17.    19.25  25.    37.    10.83  21.66  12.6   63.    60.    11.8\n",
      "  13.75  17.33  10.2   16.66  12.25  15.66  46.     8.8    9.66   7.25\n",
      "   6.75  13.     7.66  20.     8.5    5.66   3.     6.5    4.33  58.27\n",
      "  41.5   36.84  49.5   24.68  29.84  27.57  29.61  26.14  33.8   23.78\n",
      "  30.27  31.    30.8   49.16  21.61  46.16  27.2   22.25  33.    42.66\n",
      "  35.71  34.71  23.4   25.44  28.37  17.23  22.22  18.8   30.2   20.28\n",
      "  23.    19.57  22.    17.5   50.5   18.2   27.66  19.75  15.6   15.4\n",
      "  11.83  16.25  52.    25.5   49.     8.16  11.5    8.    10.     6.33\n",
      "   5.    81.08  60.57  52.84  38.53  44.45  34.84  44.11  26.26  72.2\n",
      "  35.7   30.36  26.45  24.54  23.18  39.5   26.22  22.7   25.87  65.\n",
      "  38.2   26.85  26.57  15.16  19.88  13.76  17.7   16.1   31.8   26.16\n",
      "  36.5   10.28  13.6   20.66  24.6   23.8   22.6   15.85  34.66  30.66\n",
      "  13.83  32.5   28.5    6.28   7.16  11.33  43.23  49.09  46.63  45.9\n",
      "  40.91  34.42  33.76  33.53  38.09  41.4   24.93  29.23  30.33  32.45\n",
      "  27.15  43.37  26.07  25.15  36.22  44.57  26.63  41.    31.22  23.54\n",
      "  22.81  19.15  19.07  20.45  22.88  20.4   23.62  23.37  16.45  17.44\n",
      "  22.42  16.77  13.18  29.    20.57  28.4   12.81  13.7   18.85  30.5\n",
      "  40.66  16.71  14.5   38.    22.4   27.75  12.37  86.    11.71  20.25\n",
      "  24.33  48.     9.75   7.75  10.33   9.33   3.8    7.5   11.    44.\n",
      "  35.37  34.5   40.23  26.76  44.6   51.25  30.84  35.9   56.28  34.18\n",
      "  74.2   32.9   25.78  27.61  28.25  22.33  23.21  40.5   28.09  27.54\n",
      "  29.4   34.12  29.77  29.44  28.55  38.66  32.42  23.22  18.81  21.77\n",
      "  45.25  20.75  32.8   21.85  30.4   25.16  29.8   36.75  29.2   12.3\n",
      "  17.28  58.    14.37  15.42  20.8   33.66  14.16  35.    13.4   19.66\n",
      "  18.66  14.33   5.6    7.33   4.5   52.35  59.    45.28  42.15  38.78\n",
      "  38.42  28.33  34.85  29.43  41.9   42.    32.15  59.71  31.53  25.37\n",
      "  30.18  20.73  27.9   37.5   24.58  22.61  41.85  32.55  22.07  18.92\n",
      "  19.61  17.21  23.3   17.41  25.75  19.6   32.16  20.12  17.55  21.71\n",
      "  18.25  17.75  17.85  20.83  15.62  17.71  15.12  19.33  21.8   27.25\n",
      "  16.5   14.83  21.25  15.2   70.    11.4   26.5   10.4    7.83  11.25\n",
      "  13.66   9.5    8.75  61.08  39.33  40.    28.87  25.94  30.92  25.56\n",
      "  33.16  46.37  29.83  37.77  25.84  30.54  27.91  29.45  61.    24.08\n",
      "  35.62  32.62  42.5   30.62  18.3   24.44  30.42  19.7   19.4   15.91\n",
      "  23.87  23.25  25.14  39.25  15.28  13.25  22.5   28.66  13.8    9.16\n",
      "  11.66  67.55  46.41  42.53  35.61  31.28  27.12  38.54  56.57  28.21\n",
      "  43.55  27.35  34.36  33.81  51.28  31.18  24.92  28.3   25.63  39.2\n",
      "  36.2   18.75  20.14  15.22  33.75  53.5   34.33  14.4   68.     8.71\n",
      "  11.75  10.75   8.25   6.2   47.53  47.66  47.27  37.92  35.23  43.9\n",
      "  29.92  31.41  31.16  29.75  27.38  25.42  32.36  21.62  32.44  31.88\n",
      "  28.2   21.38  25.27  30.77  22.75  28.44  26.33  33.28  40.6   19.1\n",
      "  31.4   57.5   13.37  26.25  25.33  12.4   41.33  40.55  33.09  27.76\n",
      "  26.81  31.11  22.58  22.36  18.41  19.27  21.44  17.18  15.9   84.\n",
      "  16.11  15.77  27.6   15.5   14.71  24.25  14.66  16.6   19.5   11.2\n",
      "  17.66   9.4   10.25   8.66  68.44  41.07  43.16  47.2   31.07  38.27\n",
      "  28.53  29.08  35.55  34.55  27.45  32.14  20.09  18.09  62.66  25.57\n",
      "  29.66  20.37 152.    37.25  18.37  18.12  24.16  19.28  21.83  25.6\n",
      "  16.28  17.16  51.5   96.    27.33  12.66  10.8   12.33   8.33]\n",
      "[481 438 398 384 249 319 300 328 386 283 287 324 309 290 315 210 312 321\n",
      " 285 314 268 264 263 235 230 234 275 205 238 303 245 178 173 193 133 164\n",
      " 156 154 150 143 107 120 169 126 130  86 118  99  76  88 100  75  70  55\n",
      "  73  53  66  54  48  40  63  61  46  57  52  49  37  28  33  45  34  23\n",
      "  22  25  24  12  17  19  13   7  15   8  11  16  10   3   9 516 394 416\n",
      " 402 359 353 381 337 363 377 302 336 320 310 276 313 252 188 265 171 232\n",
      " 221 215 246 184 195 200 186 160 197 157 167 148 139 162 161 129 109  91\n",
      "  84  64 102  94  78  71  58  74  81  69  38  41  31  47  29  43  44  26\n",
      "  39  36  21   5 452 389 376 288 308 293 273 243 179 163 226 203 177 194\n",
      " 187 159 108 111 115 123 104 112  92  80  65  62  50  27  20 640 560 407\n",
      " 411 429 368 364 327 271 289 248 297 278 259 212 183 124 144 152 114 158\n",
      " 134 131 119 121 138 122 105  79 106  77  59  32  30   6 413 441 333 342\n",
      " 280 256 335 304 305 277 266 286 257 231 211 190 228 174 140 151 145 113\n",
      "  95 117  97  85  83  56  35  14  18 479 294 375 358 299 340 291 250 258\n",
      " 233 165 181 196 182 192 185 101 110  98  72  60 566 453 457 365 380 409\n",
      " 458 425 281 341 254 323 343 219 240 322 253 255 229 218 199 223 236 209\n",
      " 191 135 132 125 128  89  96 136  93 456 433 307 412 325 326 267 298 198\n",
      " 207 261 224 168 175 213 202 170 142 141  68  67  51 332 460 488 344 414\n",
      " 338 339 378 350 247 295 317 201 220 180  87 466 494 419 292 279 237 217\n",
      " 147 214 166 149  90  42 395 239 208 216 116 379 311 362 296 103]\n",
      "[143.86 135.38 132.91 135.67 204.81 153.6  162.66 141.46 119.94 157.24\n",
      " 154.   130.86 134.62 139.65 128.57 191.42 127.56 123.36 137.89 121.97\n",
      " 139.17 133.71 130.79 146.38 148.69 141.88 116.   151.7  124.36  93.06\n",
      " 115.1  156.74 146.24 126.42 165.41 129.87 135.25 119.48 122.   125.87\n",
      " 157.   137.5   95.85 126.98 120.   166.27 119.49 124.24 151.31 125.\n",
      " 120.45 101.   130.66 140.   172.72 123.28 162.26 152.83 121.21 135.18\n",
      " 147.91 175.   167.5  101.58 104.91 136.95 107.01  92.3   93.87 113.51\n",
      " 150.    88.88 108.82 147.82  86.48 139.13 118.18 100.    87.5  166.66\n",
      "  79.16  75.   105.88  94.73  94.11 115.38 200.    93.33  63.15 109.09\n",
      "  68.75 110.   333.33  90.   142.44 173.6  158.41 149.75 154.59 155.24\n",
      " 139.1  133.33 147.77 136.91 130.23 174.54 150.66 132.44 137.81 132.58\n",
      " 138.4  118.21 146.03 189.89 132.45 184.79 131.03 136.19 133.02 115.44\n",
      " 149.45 130.   135.48 153.12 121.31 145.22 135.32 143.24 146.04 124.07\n",
      " 121.73 140.83 125.58 140.36 125.42 154.94 134.   133.   155.95 144.31\n",
      " 196.87 119.6  127.65 138.46 143.66 130.26 165.51 120.27 107.4   96.59\n",
      " 115.94 167.39 156.25 115.62  89.04 171.05 153.65 190.9  181.81 190.32\n",
      " 121.27 117.02 113.04 124.39 172.41 116.27 111.11 128.94 106.81 176.92\n",
      " 112.82  84.21  80.55  93.54  79.41  78.78 113.63  82.14  95.23  89.47\n",
      "  77.27 145.45 300.    71.42  81.25  86.66 141.81 128.02 127.39 145.83\n",
      " 134.81 165.1  141.39 139.49 165.61 139.09 126.13 173.18 122.22 180.98\n",
      " 124.33 136.45 153.67 143.54 136.08 151.47 142.37 135.75 125.13 144.02\n",
      " 140.12 172.3  132.51 122.69 106.21 163.82 139.81 129.72 124.34 132.69\n",
      " 122.32 119.31 134.66 116.66 103.75 121.53 102.63 145.28  91.02 104.83\n",
      "  85.93 120.93 196.15 102.    94.23 119.51  97.87 122.58  84.61  80.\n",
      " 118.51 129.16  90.9  117.64  73.07  78.26  70.83 106.66 152.03 151.42\n",
      " 168.79 121.89 116.78 132.88 124.45 146.49 136.33 145.56 120.2  120.14\n",
      " 112.35 127.35 138.58 135.51 191.12 131.84 151.33 143.75 178.89 122.43\n",
      " 164.91 130.06 115.18 144.35 133.58 116.44 122.9  118.65 131.93 119.\n",
      "  98.55 101.63 117.14 150.63 107.54 131.39 144.15 138.66 109.52 218.42\n",
      " 212.9  191.17 161.53  96.61 103.63 135.   204.   162.06  69.84 159.25\n",
      " 131.25 137.03 123.07  69.76 157.89 108.   103.84  74.19 115.78 146.15\n",
      " 233.33 107.69 108.33 156.54 130.75 122.44 175.08 130.82 147.44 144.74\n",
      " 128.36 155.71 163.67 131.42 119.1  123.02 121.96 131.4  134.21 123.42\n",
      " 135.01 137.8  117.62 192.89 135.06 132.57 136.01 145.59 136.31 110.08\n",
      " 126.39 118.09 122.28 120.33 118.39 125.15 131.75 123.84 124.82 138.93\n",
      " 158.94 129.46 120.83 132.11 112.69 120.51 113.22 104.76 141.86 158.44\n",
      " 160.27 158.9  117.52 180.64 156.33 139.74 122.35 122.89 117.85 132.3\n",
      " 101.23 165.21 112.12 158.69 135.55 101.78 114.89 162.5  111.42 123.33\n",
      "  89.74  86.11 114.81 206.66 207.14 155.55  69.69 153.84 158.33  58.06\n",
      " 170.    68.    82.35 144.44  72.22 216.66  78.57 137.78 136.05 187.75\n",
      " 140.8  146.08 149.16 134.42 121.62 117.94 158.63 135.39 129.13 148.4\n",
      " 145.38 125.78 122.1  124.17 116.49 114.33 142.24 125.96 139.05 117.49\n",
      " 128.93 126.18 134.48 162.42 146.4  135.26 144.09 149.34 114.83 107.81\n",
      " 110.81 106.52 192.55 101.21 140.17 117.69 128.81 117.05 147.52 133.63\n",
      " 132.72 100.8  101.65 109.   123.4  126.37 118.68 114.28 140.27 101.19\n",
      " 109.33 112.3  134.61 126.41 103.33 118.36 112.   101.85 157.57 109.75\n",
      "  91.48  91.3  144.82  95.12 102.94 152.17 113.33 163.15  81.57 111.53\n",
      "  85.71 185.71  64.28 266.66 129.5  156.29 138.73 150.13 142.89 131.54\n",
      " 124.08 106.55 110.82 162.89 149.46 164.56 126.93 164.38 138.33 105.75\n",
      "  96.58 122.92 127.91 120.48 126.6  115.29 128.38 134.4  147.23 114.71\n",
      " 116.59 108.05  86.69 112.44 142.94 109.42 115.73 148.88 127.27 137.85\n",
      " 131.81 132.   137.6  104.28  93.42  97.65 140.44 130.2  102.47 146.42\n",
      " 114.15  88.23 146.83 141.55 102.83 113.68 123.75  92.92  90.09  92.7\n",
      "  98.83 134.92  81.72 101.35 159.09 108.06 112.28  98.3  196.55 147.22\n",
      "  69.33 124.32 180.   129.41  82.69 107.89 177.27 102.7  160.74 143.55\n",
      " 129.33 161.23 112.13 135.69 126.31 106.51 130.92 129.83 140.53 111.65\n",
      " 128.77 132.81 125.84 112.41 132.14 114.48 161.11 147.34 102.12 109.19\n",
      " 110.59 105.69 164.1  113.83 151.78 111.73 142.4   98.65 138.36 108.91\n",
      " 133.12 115.2  108.28 114.79 126.49 130.98 139.68 160.2   99.29 157.35\n",
      " 122.97 134.32 165.38 113.69  92.04 131.57 153.19 102.98 109.67 106.45\n",
      " 107.84 103.77 134.28 180.76  91.83 210.   190.   124.13 119.23  58.82\n",
      " 183.13 121.08 113.31 146.51 118.84 136.98 134.76 176.66 112.16 126.51\n",
      " 112.85 158.7  119.24 125.25 110.46 109.23 130.43 117.39 128.39 140.79\n",
      " 128.18 116.16 125.55 124.05  99.46 119.07 118.42  99.37 108.69 109.77\n",
      " 117.5  135.29 117.09  97.82 137.93 111.   137.17 146.57 145.07 104.54\n",
      "  93.75 129.31  80.89 107.93 127.45  91.04 103.44 130.76  85.96  87.27\n",
      " 114.63 102.17 138.7  160.   119.35 206.25  79.48  87.09 132.61 142.85\n",
      " 117.66 156.84 147.31 135.59 132.28 171.55 138.91 144.71 163.3  124.01\n",
      " 165.67 144.81 136.66 147.64 117.29 144.79 127.64 148.38 128.64 128.14\n",
      " 110.17 115.88 127.41 150.31 126.63 122.47 130.12 151.14 162.28 110.24\n",
      " 126.57 106.49 105.36 119.84 106.08 121.05  93.27 100.94 109.3  117.33\n",
      " 135.71  91.13  95.65 115.09 113.72 138.88  83.01  76.47  84.09 154.54\n",
      " 134.78  84.37  93.1  141.17 184.61 115.   140.9  114.46 117.74 120.13\n",
      " 108.73 115.64 102.46 127.2  110.9  115.81 112.32 132.78 107.38  98.14\n",
      " 126.97 107.92 119.58 123.93 117.07 115.96  93.23 124.48 123.65 100.98\n",
      " 166.1  105.37 138.57 109.41  94.62 158.49  97.64 119.11 127.86 175.6\n",
      " 141.3  116.98  89.55  88.33 103.92  71.21  83.67  95.   126.92  62.5\n",
      " 105.   111.76  47.36  57.89 140.89 167.63 151.76 121.82 179.01 142.22\n",
      " 133.54 184.54 124.49 115.25 114.69 161.61 123.16 133.47 101.68 147.85\n",
      " 127.11 149.32 149.27 108.74 119.87 147.69 144.27 204.34 136.64 132.83\n",
      " 102.92 168.   105.09 133.6  133.61 153.53 183.95 132.43 131.06 112.93\n",
      " 158.22 110.57 131.64 109.57 127.16  96.93 152.54  96.47  97.43  97.33\n",
      " 118.64 110.63 112.5   80.76  73.58 205.26  88.09 106.25  87.17 121.42\n",
      "  79.06  97.14 176.47  96.29  80.64]\n",
      "[1 0 2 4]\n",
      "[8 6 4 5 3 2 1 0 7 9]\n",
      "[57 49 45 64 31 37 46 41 48 22 52 28 42 36 34 27 26 30 38 21 20 14 11 16\n",
      " 19 18 10 17 12 13  8  7  4  9  6  2  5  3  1  0 68 66 53 44 61 59 56 39\n",
      " 24 29 32 40 23 25 63 15 83 88 54 51 50 33 65 60 35 47 74 43 81 73 55 67\n",
      " 86 58]\n",
      "[21 25 11 52 34 27 13 14 18 26 10 23 22 29 20 15  9  6  4  7 12 17  5  3\n",
      "  2  1  0 28 37 32 35 16 30 19 24 31  8 38 36 51 59 44]\n",
      "['Overseas' 'Indian']\n",
      "['Sunrisers Hyderabad' 'Kings Xi Punjab' 'Mumbai Indians' 'Delhi Capitals'\n",
      " 'Kolkata Knight Riders' 'Royal Challengers Bangalore'\n",
      " 'Chennai Super Kings' 'Rajasthan Royals']\n",
      "[2019 2018 2017 2016 2015 2014 2013 2012 2011 2010 2009 2008]\n"
     ]
    }
   ],
   "source": [
    "for col in df:\n",
    "    print(df[col].unique())"
   ]
  },
  {
   "cell_type": "code",
   "execution_count": 7,
   "id": "892519c0",
   "metadata": {},
   "outputs": [
    {
     "name": "stdout",
     "output_type": "stream",
     "text": [
      "['PLAYER', 'Nationality', 'Team']\n"
     ]
    },
    {
     "data": {
      "text/plain": [
       "['POS',\n",
       " 'Mat',\n",
       " 'Inns',\n",
       " 'NO',\n",
       " 'Runs',\n",
       " 'HS',\n",
       " 'Avg',\n",
       " 'BF',\n",
       " 'SR',\n",
       " '100',\n",
       " '50',\n",
       " '4s',\n",
       " '6s',\n",
       " 'Season']"
      ]
     },
     "execution_count": 7,
     "metadata": {},
     "output_type": "execute_result"
    }
   ],
   "source": [
    "# Classify column names based on dtypes\n",
    "\n",
    "object_column_names = df.dtypes[df.dtypes.values == 'object'].index.tolist()\n",
    "dff=print(object_column_names)\n",
    "\n",
    "numerical_column_names = df.dtypes[df.dtypes.values != 'object'].index.tolist()\n",
    "numerical_column_names"
   ]
  },
  {
   "cell_type": "code",
   "execution_count": 8,
   "id": "3cf6d18a",
   "metadata": {},
   "outputs": [
    {
     "data": {
      "text/html": [
       "<div>\n",
       "<style scoped>\n",
       "    .dataframe tbody tr th:only-of-type {\n",
       "        vertical-align: middle;\n",
       "    }\n",
       "\n",
       "    .dataframe tbody tr th {\n",
       "        vertical-align: top;\n",
       "    }\n",
       "\n",
       "    .dataframe thead th {\n",
       "        text-align: right;\n",
       "    }\n",
       "</style>\n",
       "<table border=\"1\" class=\"dataframe\">\n",
       "  <thead>\n",
       "    <tr style=\"text-align: right;\">\n",
       "      <th></th>\n",
       "      <th>Mat</th>\n",
       "      <th>Inns</th>\n",
       "      <th>NO</th>\n",
       "      <th>Runs</th>\n",
       "      <th>HS</th>\n",
       "      <th>BF</th>\n",
       "      <th>SR</th>\n",
       "      <th>4s</th>\n",
       "      <th>6s</th>\n",
       "    </tr>\n",
       "  </thead>\n",
       "  <tbody>\n",
       "    <tr>\n",
       "      <th>0</th>\n",
       "      <td>12</td>\n",
       "      <td>12</td>\n",
       "      <td>2</td>\n",
       "      <td>692</td>\n",
       "      <td>100</td>\n",
       "      <td>481</td>\n",
       "      <td>143.86</td>\n",
       "      <td>57</td>\n",
       "      <td>21</td>\n",
       "    </tr>\n",
       "    <tr>\n",
       "      <th>1</th>\n",
       "      <td>14</td>\n",
       "      <td>14</td>\n",
       "      <td>3</td>\n",
       "      <td>593</td>\n",
       "      <td>100</td>\n",
       "      <td>438</td>\n",
       "      <td>135.38</td>\n",
       "      <td>49</td>\n",
       "      <td>25</td>\n",
       "    </tr>\n",
       "    <tr>\n",
       "      <th>2</th>\n",
       "      <td>16</td>\n",
       "      <td>16</td>\n",
       "      <td>1</td>\n",
       "      <td>529</td>\n",
       "      <td>81</td>\n",
       "      <td>398</td>\n",
       "      <td>132.91</td>\n",
       "      <td>45</td>\n",
       "      <td>25</td>\n",
       "    </tr>\n",
       "    <tr>\n",
       "      <th>3</th>\n",
       "      <td>16</td>\n",
       "      <td>16</td>\n",
       "      <td>1</td>\n",
       "      <td>521</td>\n",
       "      <td>97</td>\n",
       "      <td>384</td>\n",
       "      <td>135.67</td>\n",
       "      <td>64</td>\n",
       "      <td>11</td>\n",
       "    </tr>\n",
       "    <tr>\n",
       "      <th>4</th>\n",
       "      <td>14</td>\n",
       "      <td>13</td>\n",
       "      <td>4</td>\n",
       "      <td>510</td>\n",
       "      <td>80</td>\n",
       "      <td>249</td>\n",
       "      <td>204.81</td>\n",
       "      <td>31</td>\n",
       "      <td>52</td>\n",
       "    </tr>\n",
       "    <tr>\n",
       "      <th>...</th>\n",
       "      <td>...</td>\n",
       "      <td>...</td>\n",
       "      <td>...</td>\n",
       "      <td>...</td>\n",
       "      <td>...</td>\n",
       "      <td>...</td>\n",
       "      <td>...</td>\n",
       "      <td>...</td>\n",
       "      <td>...</td>\n",
       "    </tr>\n",
       "    <tr>\n",
       "      <th>1041</th>\n",
       "      <td>4</td>\n",
       "      <td>2</td>\n",
       "      <td>1</td>\n",
       "      <td>26</td>\n",
       "      <td>25</td>\n",
       "      <td>27</td>\n",
       "      <td>96.29</td>\n",
       "      <td>2</td>\n",
       "      <td>0</td>\n",
       "    </tr>\n",
       "    <tr>\n",
       "      <th>1042</th>\n",
       "      <td>3</td>\n",
       "      <td>3</td>\n",
       "      <td>0</td>\n",
       "      <td>25</td>\n",
       "      <td>16</td>\n",
       "      <td>31</td>\n",
       "      <td>80.64</td>\n",
       "      <td>4</td>\n",
       "      <td>0</td>\n",
       "    </tr>\n",
       "    <tr>\n",
       "      <th>1043</th>\n",
       "      <td>8</td>\n",
       "      <td>4</td>\n",
       "      <td>1</td>\n",
       "      <td>25</td>\n",
       "      <td>23</td>\n",
       "      <td>22</td>\n",
       "      <td>113.63</td>\n",
       "      <td>2</td>\n",
       "      <td>1</td>\n",
       "    </tr>\n",
       "    <tr>\n",
       "      <th>1044</th>\n",
       "      <td>4</td>\n",
       "      <td>3</td>\n",
       "      <td>1</td>\n",
       "      <td>24</td>\n",
       "      <td>9</td>\n",
       "      <td>22</td>\n",
       "      <td>109.09</td>\n",
       "      <td>2</td>\n",
       "      <td>1</td>\n",
       "    </tr>\n",
       "    <tr>\n",
       "      <th>1045</th>\n",
       "      <td>3</td>\n",
       "      <td>3</td>\n",
       "      <td>0</td>\n",
       "      <td>23</td>\n",
       "      <td>22</td>\n",
       "      <td>23</td>\n",
       "      <td>100.00</td>\n",
       "      <td>5</td>\n",
       "      <td>0</td>\n",
       "    </tr>\n",
       "  </tbody>\n",
       "</table>\n",
       "<p>1046 rows × 9 columns</p>\n",
       "</div>"
      ],
      "text/plain": [
       "      Mat  Inns  NO  Runs   HS   BF      SR  4s  6s\n",
       "0      12    12   2   692  100  481  143.86  57  21\n",
       "1      14    14   3   593  100  438  135.38  49  25\n",
       "2      16    16   1   529   81  398  132.91  45  25\n",
       "3      16    16   1   521   97  384  135.67  64  11\n",
       "4      14    13   4   510   80  249  204.81  31  52\n",
       "...   ...   ...  ..   ...  ...  ...     ...  ..  ..\n",
       "1041    4     2   1    26   25   27   96.29   2   0\n",
       "1042    3     3   0    25   16   31   80.64   4   0\n",
       "1043    8     4   1    25   23   22  113.63   2   1\n",
       "1044    4     3   1    24    9   22  109.09   2   1\n",
       "1045    3     3   0    23   22   23  100.00   5   0\n",
       "\n",
       "[1046 rows x 9 columns]"
      ]
     },
     "execution_count": 8,
     "metadata": {},
     "output_type": "execute_result"
    }
   ],
   "source": [
    "numeric=pd.DataFrame(df[['Mat','Inns','NO','Runs','HS','BF','SR','4s','6s']])\n",
    "numeric"
   ]
  },
  {
   "cell_type": "code",
   "execution_count": 9,
   "id": "759bda89",
   "metadata": {},
   "outputs": [
    {
     "data": {
      "text/plain": [
       "POS            0\n",
       "PLAYER         0\n",
       "Mat            0\n",
       "Inns           0\n",
       "NO             0\n",
       "Runs           0\n",
       "HS             0\n",
       "Avg            0\n",
       "BF             0\n",
       "SR             0\n",
       "100            0\n",
       "50             0\n",
       "4s             0\n",
       "6s             0\n",
       "Nationality    0\n",
       "Team           0\n",
       "Season         0\n",
       "dtype: int64"
      ]
     },
     "execution_count": 9,
     "metadata": {},
     "output_type": "execute_result"
    }
   ],
   "source": [
    "df.isnull().sum()"
   ]
  },
  {
   "cell_type": "code",
   "execution_count": 10,
   "id": "3419c0ca",
   "metadata": {},
   "outputs": [
    {
     "data": {
      "text/html": [
       "<div>\n",
       "<style scoped>\n",
       "    .dataframe tbody tr th:only-of-type {\n",
       "        vertical-align: middle;\n",
       "    }\n",
       "\n",
       "    .dataframe tbody tr th {\n",
       "        vertical-align: top;\n",
       "    }\n",
       "\n",
       "    .dataframe thead th {\n",
       "        text-align: right;\n",
       "    }\n",
       "</style>\n",
       "<table border=\"1\" class=\"dataframe\">\n",
       "  <thead>\n",
       "    <tr style=\"text-align: right;\">\n",
       "      <th></th>\n",
       "      <th>POS</th>\n",
       "      <th>PLAYER</th>\n",
       "      <th>Mat</th>\n",
       "      <th>Inns</th>\n",
       "      <th>NO</th>\n",
       "      <th>Runs</th>\n",
       "      <th>HS</th>\n",
       "      <th>Avg</th>\n",
       "      <th>BF</th>\n",
       "      <th>SR</th>\n",
       "      <th>100</th>\n",
       "      <th>50</th>\n",
       "      <th>4s</th>\n",
       "      <th>6s</th>\n",
       "      <th>Nationality</th>\n",
       "      <th>Team</th>\n",
       "      <th>Season</th>\n",
       "    </tr>\n",
       "  </thead>\n",
       "  <tbody>\n",
       "    <tr>\n",
       "      <th>0</th>\n",
       "      <td>1</td>\n",
       "      <td>David Warner</td>\n",
       "      <td>12</td>\n",
       "      <td>12</td>\n",
       "      <td>2</td>\n",
       "      <td>692</td>\n",
       "      <td>100</td>\n",
       "      <td>69.20</td>\n",
       "      <td>481</td>\n",
       "      <td>143.86</td>\n",
       "      <td>1</td>\n",
       "      <td>8</td>\n",
       "      <td>57</td>\n",
       "      <td>21</td>\n",
       "      <td>Overseas</td>\n",
       "      <td>Sunrisers Hyderabad</td>\n",
       "      <td>2019</td>\n",
       "    </tr>\n",
       "    <tr>\n",
       "      <th>1</th>\n",
       "      <td>2</td>\n",
       "      <td>KL Rahul</td>\n",
       "      <td>14</td>\n",
       "      <td>14</td>\n",
       "      <td>3</td>\n",
       "      <td>593</td>\n",
       "      <td>100</td>\n",
       "      <td>53.90</td>\n",
       "      <td>438</td>\n",
       "      <td>135.38</td>\n",
       "      <td>1</td>\n",
       "      <td>6</td>\n",
       "      <td>49</td>\n",
       "      <td>25</td>\n",
       "      <td>Indian</td>\n",
       "      <td>Kings Xi Punjab</td>\n",
       "      <td>2019</td>\n",
       "    </tr>\n",
       "    <tr>\n",
       "      <th>2</th>\n",
       "      <td>3</td>\n",
       "      <td>Quinton de Kock</td>\n",
       "      <td>16</td>\n",
       "      <td>16</td>\n",
       "      <td>1</td>\n",
       "      <td>529</td>\n",
       "      <td>81</td>\n",
       "      <td>35.26</td>\n",
       "      <td>398</td>\n",
       "      <td>132.91</td>\n",
       "      <td>0</td>\n",
       "      <td>4</td>\n",
       "      <td>45</td>\n",
       "      <td>25</td>\n",
       "      <td>Overseas</td>\n",
       "      <td>Mumbai Indians</td>\n",
       "      <td>2019</td>\n",
       "    </tr>\n",
       "    <tr>\n",
       "      <th>3</th>\n",
       "      <td>4</td>\n",
       "      <td>Shikhar Dhawan</td>\n",
       "      <td>16</td>\n",
       "      <td>16</td>\n",
       "      <td>1</td>\n",
       "      <td>521</td>\n",
       "      <td>97</td>\n",
       "      <td>34.73</td>\n",
       "      <td>384</td>\n",
       "      <td>135.67</td>\n",
       "      <td>0</td>\n",
       "      <td>5</td>\n",
       "      <td>64</td>\n",
       "      <td>11</td>\n",
       "      <td>Indian</td>\n",
       "      <td>Delhi Capitals</td>\n",
       "      <td>2019</td>\n",
       "    </tr>\n",
       "    <tr>\n",
       "      <th>4</th>\n",
       "      <td>5</td>\n",
       "      <td>Andre Russell</td>\n",
       "      <td>14</td>\n",
       "      <td>13</td>\n",
       "      <td>4</td>\n",
       "      <td>510</td>\n",
       "      <td>80</td>\n",
       "      <td>56.66</td>\n",
       "      <td>249</td>\n",
       "      <td>204.81</td>\n",
       "      <td>0</td>\n",
       "      <td>4</td>\n",
       "      <td>31</td>\n",
       "      <td>52</td>\n",
       "      <td>Overseas</td>\n",
       "      <td>Kolkata Knight Riders</td>\n",
       "      <td>2019</td>\n",
       "    </tr>\n",
       "  </tbody>\n",
       "</table>\n",
       "</div>"
      ],
      "text/plain": [
       "   POS           PLAYER  Mat  Inns  NO  Runs   HS    Avg   BF      SR  100  \\\n",
       "0    1     David Warner   12    12   2   692  100  69.20  481  143.86    1   \n",
       "1    2         KL Rahul   14    14   3   593  100  53.90  438  135.38    1   \n",
       "2    3  Quinton de Kock   16    16   1   529   81  35.26  398  132.91    0   \n",
       "3    4   Shikhar Dhawan   16    16   1   521   97  34.73  384  135.67    0   \n",
       "4    5    Andre Russell   14    13   4   510   80  56.66  249  204.81    0   \n",
       "\n",
       "   50  4s  6s Nationality                   Team  Season  \n",
       "0   8  57  21    Overseas    Sunrisers Hyderabad    2019  \n",
       "1   6  49  25      Indian        Kings Xi Punjab    2019  \n",
       "2   4  45  25    Overseas         Mumbai Indians    2019  \n",
       "3   5  64  11      Indian         Delhi Capitals    2019  \n",
       "4   4  31  52    Overseas  Kolkata Knight Riders    2019  "
      ]
     },
     "execution_count": 10,
     "metadata": {},
     "output_type": "execute_result"
    }
   ],
   "source": [
    "df.head()\n"
   ]
  },
  {
   "cell_type": "code",
   "execution_count": 13,
   "id": "d371f0ca",
   "metadata": {},
   "outputs": [
    {
     "data": {
      "application/vnd.plotly.v1+json": {
       "config": {
        "plotlyServerURL": "https://plot.ly"
       },
       "data": [
        {
         "branchvalues": "total",
         "domain": {
          "x": [
           0,
           1
          ],
          "y": [
           0,
           1
          ]
         },
         "hovertemplate": "labels=%{label}<br>count=%{value}<br>parent=%{parent}<br>id=%{id}<extra></extra>",
         "ids": [
          "Indian/Chennai Super Kings/2008",
          "Overseas/Chennai Super Kings/2008",
          "Indian/Delhi Capitals/2008",
          "Overseas/Delhi Capitals/2008",
          "Indian/Kings Xi Punjab/2008",
          "Overseas/Kings Xi Punjab/2008",
          "Indian/Kolkata Knight Riders/2008",
          "Overseas/Kolkata Knight Riders/2008",
          "Indian/Mumbai Indians/2008",
          "Overseas/Mumbai Indians/2008",
          "Indian/Rajasthan Royals/2008",
          "Overseas/Rajasthan Royals/2008",
          "Indian/Royal Challengers Bangalore/2008",
          "Overseas/Royal Challengers Bangalore/2008",
          "Indian/Chennai Super Kings/2009",
          "Overseas/Chennai Super Kings/2009",
          "Indian/Delhi Capitals/2009",
          "Indian/Kings Xi Punjab/2009",
          "Overseas/Kings Xi Punjab/2009",
          "Indian/Kolkata Knight Riders/2009",
          "Overseas/Kolkata Knight Riders/2009",
          "Indian/Mumbai Indians/2009",
          "Overseas/Mumbai Indians/2009",
          "Indian/Rajasthan Royals/2009",
          "Overseas/Rajasthan Royals/2009",
          "Indian/Royal Challengers Bangalore/2009",
          "Overseas/Royal Challengers Bangalore/2009",
          "Indian/Chennai Super Kings/2010",
          "Overseas/Chennai Super Kings/2010",
          "Indian/Delhi Capitals/2010",
          "Overseas/Delhi Capitals/2010",
          "Indian/Kings Xi Punjab/2010",
          "Overseas/Kings Xi Punjab/2010",
          "Indian/Kolkata Knight Riders/2010",
          "Overseas/Kolkata Knight Riders/2010",
          "Indian/Mumbai Indians/2010",
          "Overseas/Mumbai Indians/2010",
          "Indian/Rajasthan Royals/2010",
          "Overseas/Rajasthan Royals/2010",
          "Indian/Royal Challengers Bangalore/2010",
          "Overseas/Royal Challengers Bangalore/2010",
          "Indian/Chennai Super Kings/2011",
          "Overseas/Chennai Super Kings/2011",
          "Indian/Delhi Capitals/2011",
          "Overseas/Delhi Capitals/2011",
          "Indian/Kings Xi Punjab/2011",
          "Overseas/Kings Xi Punjab/2011",
          "Indian/Kolkata Knight Riders/2011",
          "Overseas/Kolkata Knight Riders/2011",
          "Indian/Mumbai Indians/2011",
          "Overseas/Mumbai Indians/2011",
          "Indian/Rajasthan Royals/2011",
          "Overseas/Rajasthan Royals/2011",
          "Indian/Royal Challengers Bangalore/2011",
          "Overseas/Royal Challengers Bangalore/2011",
          "Indian/Chennai Super Kings/2012",
          "Overseas/Chennai Super Kings/2012",
          "Indian/Delhi Capitals/2012",
          "Overseas/Delhi Capitals/2012",
          "Indian/Kings Xi Punjab/2012",
          "Overseas/Kings Xi Punjab/2012",
          "Indian/Kolkata Knight Riders/2012",
          "Overseas/Kolkata Knight Riders/2012",
          "Indian/Mumbai Indians/2012",
          "Overseas/Mumbai Indians/2012",
          "Indian/Rajasthan Royals/2012",
          "Overseas/Rajasthan Royals/2012",
          "Indian/Royal Challengers Bangalore/2012",
          "Overseas/Royal Challengers Bangalore/2012",
          "Indian/Chennai Super Kings/2013",
          "Overseas/Chennai Super Kings/2013",
          "Indian/Delhi Capitals/2013",
          "Overseas/Delhi Capitals/2013",
          "Indian/Kings Xi Punjab/2013",
          "Overseas/Kings Xi Punjab/2013",
          "Indian/Kolkata Knight Riders/2013",
          "Overseas/Kolkata Knight Riders/2013",
          "Indian/Mumbai Indians/2013",
          "Overseas/Mumbai Indians/2013",
          "Indian/Rajasthan Royals/2013",
          "Overseas/Rajasthan Royals/2013",
          "Indian/Royal Challengers Bangalore/2013",
          "Overseas/Royal Challengers Bangalore/2013",
          "Indian/Sunrisers Hyderabad/2013",
          "Overseas/Sunrisers Hyderabad/2013",
          "Indian/Chennai Super Kings/2014",
          "Overseas/Chennai Super Kings/2014",
          "Indian/Delhi Capitals/2014",
          "Overseas/Delhi Capitals/2014",
          "Indian/Kings Xi Punjab/2014",
          "Overseas/Kings Xi Punjab/2014",
          "Indian/Kolkata Knight Riders/2014",
          "Overseas/Kolkata Knight Riders/2014",
          "Indian/Mumbai Indians/2014",
          "Overseas/Mumbai Indians/2014",
          "Indian/Rajasthan Royals/2014",
          "Overseas/Rajasthan Royals/2014",
          "Indian/Royal Challengers Bangalore/2014",
          "Overseas/Royal Challengers Bangalore/2014",
          "Indian/Sunrisers Hyderabad/2014",
          "Overseas/Sunrisers Hyderabad/2014",
          "Indian/Chennai Super Kings/2015",
          "Overseas/Chennai Super Kings/2015",
          "Indian/Delhi Capitals/2015",
          "Overseas/Delhi Capitals/2015",
          "Indian/Kings Xi Punjab/2015",
          "Overseas/Kings Xi Punjab/2015",
          "Indian/Kolkata Knight Riders/2015",
          "Overseas/Kolkata Knight Riders/2015",
          "Indian/Mumbai Indians/2015",
          "Overseas/Mumbai Indians/2015",
          "Indian/Rajasthan Royals/2015",
          "Overseas/Rajasthan Royals/2015",
          "Indian/Royal Challengers Bangalore/2015",
          "Overseas/Royal Challengers Bangalore/2015",
          "Indian/Sunrisers Hyderabad/2015",
          "Overseas/Sunrisers Hyderabad/2015",
          "Indian/Delhi Capitals/2016",
          "Overseas/Delhi Capitals/2016",
          "Indian/Kings Xi Punjab/2016",
          "Overseas/Kings Xi Punjab/2016",
          "Indian/Kolkata Knight Riders/2016",
          "Overseas/Kolkata Knight Riders/2016",
          "Indian/Mumbai Indians/2016",
          "Overseas/Mumbai Indians/2016",
          "Indian/Royal Challengers Bangalore/2016",
          "Overseas/Royal Challengers Bangalore/2016",
          "Indian/Sunrisers Hyderabad/2016",
          "Overseas/Sunrisers Hyderabad/2016",
          "Indian/Delhi Capitals/2017",
          "Overseas/Delhi Capitals/2017",
          "Indian/Kings Xi Punjab/2017",
          "Overseas/Kings Xi Punjab/2017",
          "Indian/Kolkata Knight Riders/2017",
          "Overseas/Kolkata Knight Riders/2017",
          "Indian/Mumbai Indians/2017",
          "Overseas/Mumbai Indians/2017",
          "Indian/Royal Challengers Bangalore/2017",
          "Overseas/Royal Challengers Bangalore/2017",
          "Indian/Sunrisers Hyderabad/2017",
          "Overseas/Sunrisers Hyderabad/2017",
          "Indian/Chennai Super Kings/2018",
          "Overseas/Chennai Super Kings/2018",
          "Indian/Delhi Capitals/2018",
          "Overseas/Delhi Capitals/2018",
          "Indian/Kings Xi Punjab/2018",
          "Overseas/Kings Xi Punjab/2018",
          "Indian/Kolkata Knight Riders/2018",
          "Overseas/Kolkata Knight Riders/2018",
          "Indian/Mumbai Indians/2018",
          "Overseas/Mumbai Indians/2018",
          "Indian/Rajasthan Royals/2018",
          "Overseas/Rajasthan Royals/2018",
          "Indian/Royal Challengers Bangalore/2018",
          "Overseas/Royal Challengers Bangalore/2018",
          "Indian/Sunrisers Hyderabad/2018",
          "Overseas/Sunrisers Hyderabad/2018",
          "Indian/Chennai Super Kings/2019",
          "Overseas/Chennai Super Kings/2019",
          "Indian/Delhi Capitals/2019",
          "Overseas/Delhi Capitals/2019",
          "Indian/Kings Xi Punjab/2019",
          "Overseas/Kings Xi Punjab/2019",
          "Indian/Kolkata Knight Riders/2019",
          "Overseas/Kolkata Knight Riders/2019",
          "Indian/Mumbai Indians/2019",
          "Overseas/Mumbai Indians/2019",
          "Indian/Rajasthan Royals/2019",
          "Overseas/Rajasthan Royals/2019",
          "Indian/Royal Challengers Bangalore/2019",
          "Overseas/Royal Challengers Bangalore/2019",
          "Indian/Sunrisers Hyderabad/2019",
          "Overseas/Sunrisers Hyderabad/2019",
          "Indian/Chennai Super Kings",
          "Overseas/Chennai Super Kings",
          "Indian/Delhi Capitals",
          "Overseas/Delhi Capitals",
          "Indian/Kings Xi Punjab",
          "Overseas/Kings Xi Punjab",
          "Indian/Kolkata Knight Riders",
          "Overseas/Kolkata Knight Riders",
          "Indian/Mumbai Indians",
          "Overseas/Mumbai Indians",
          "Indian/Rajasthan Royals",
          "Overseas/Rajasthan Royals",
          "Indian/Royal Challengers Bangalore",
          "Overseas/Royal Challengers Bangalore",
          "Indian/Sunrisers Hyderabad",
          "Overseas/Sunrisers Hyderabad",
          "Indian",
          "Overseas"
         ],
         "labels": [
          "2008",
          "2008",
          "2008",
          "2008",
          "2008",
          "2008",
          "2008",
          "2008",
          "2008",
          "2008",
          "2008",
          "2008",
          "2008",
          "2008",
          "2009",
          "2009",
          "2009",
          "2009",
          "2009",
          "2009",
          "2009",
          "2009",
          "2009",
          "2009",
          "2009",
          "2009",
          "2009",
          "2010",
          "2010",
          "2010",
          "2010",
          "2010",
          "2010",
          "2010",
          "2010",
          "2010",
          "2010",
          "2010",
          "2010",
          "2010",
          "2010",
          "2011",
          "2011",
          "2011",
          "2011",
          "2011",
          "2011",
          "2011",
          "2011",
          "2011",
          "2011",
          "2011",
          "2011",
          "2011",
          "2011",
          "2012",
          "2012",
          "2012",
          "2012",
          "2012",
          "2012",
          "2012",
          "2012",
          "2012",
          "2012",
          "2012",
          "2012",
          "2012",
          "2012",
          "2013",
          "2013",
          "2013",
          "2013",
          "2013",
          "2013",
          "2013",
          "2013",
          "2013",
          "2013",
          "2013",
          "2013",
          "2013",
          "2013",
          "2013",
          "2013",
          "2014",
          "2014",
          "2014",
          "2014",
          "2014",
          "2014",
          "2014",
          "2014",
          "2014",
          "2014",
          "2014",
          "2014",
          "2014",
          "2014",
          "2014",
          "2014",
          "2015",
          "2015",
          "2015",
          "2015",
          "2015",
          "2015",
          "2015",
          "2015",
          "2015",
          "2015",
          "2015",
          "2015",
          "2015",
          "2015",
          "2015",
          "2015",
          "2016",
          "2016",
          "2016",
          "2016",
          "2016",
          "2016",
          "2016",
          "2016",
          "2016",
          "2016",
          "2016",
          "2016",
          "2017",
          "2017",
          "2017",
          "2017",
          "2017",
          "2017",
          "2017",
          "2017",
          "2017",
          "2017",
          "2017",
          "2017",
          "2018",
          "2018",
          "2018",
          "2018",
          "2018",
          "2018",
          "2018",
          "2018",
          "2018",
          "2018",
          "2018",
          "2018",
          "2018",
          "2018",
          "2018",
          "2018",
          "2019",
          "2019",
          "2019",
          "2019",
          "2019",
          "2019",
          "2019",
          "2019",
          "2019",
          "2019",
          "2019",
          "2019",
          "2019",
          "2019",
          "2019",
          "2019",
          "Chennai Super Kings",
          "Chennai Super Kings",
          "Delhi Capitals",
          "Delhi Capitals",
          "Kings Xi Punjab",
          "Kings Xi Punjab",
          "Kolkata Knight Riders",
          "Kolkata Knight Riders",
          "Mumbai Indians",
          "Mumbai Indians",
          "Rajasthan Royals",
          "Rajasthan Royals",
          "Royal Challengers Bangalore",
          "Royal Challengers Bangalore",
          "Sunrisers Hyderabad",
          "Sunrisers Hyderabad",
          "Indian",
          "Overseas"
         ],
         "name": "",
         "parents": [
          "Indian/Chennai Super Kings",
          "Overseas/Chennai Super Kings",
          "Indian/Delhi Capitals",
          "Overseas/Delhi Capitals",
          "Indian/Kings Xi Punjab",
          "Overseas/Kings Xi Punjab",
          "Indian/Kolkata Knight Riders",
          "Overseas/Kolkata Knight Riders",
          "Indian/Mumbai Indians",
          "Overseas/Mumbai Indians",
          "Indian/Rajasthan Royals",
          "Overseas/Rajasthan Royals",
          "Indian/Royal Challengers Bangalore",
          "Overseas/Royal Challengers Bangalore",
          "Indian/Chennai Super Kings",
          "Overseas/Chennai Super Kings",
          "Indian/Delhi Capitals",
          "Indian/Kings Xi Punjab",
          "Overseas/Kings Xi Punjab",
          "Indian/Kolkata Knight Riders",
          "Overseas/Kolkata Knight Riders",
          "Indian/Mumbai Indians",
          "Overseas/Mumbai Indians",
          "Indian/Rajasthan Royals",
          "Overseas/Rajasthan Royals",
          "Indian/Royal Challengers Bangalore",
          "Overseas/Royal Challengers Bangalore",
          "Indian/Chennai Super Kings",
          "Overseas/Chennai Super Kings",
          "Indian/Delhi Capitals",
          "Overseas/Delhi Capitals",
          "Indian/Kings Xi Punjab",
          "Overseas/Kings Xi Punjab",
          "Indian/Kolkata Knight Riders",
          "Overseas/Kolkata Knight Riders",
          "Indian/Mumbai Indians",
          "Overseas/Mumbai Indians",
          "Indian/Rajasthan Royals",
          "Overseas/Rajasthan Royals",
          "Indian/Royal Challengers Bangalore",
          "Overseas/Royal Challengers Bangalore",
          "Indian/Chennai Super Kings",
          "Overseas/Chennai Super Kings",
          "Indian/Delhi Capitals",
          "Overseas/Delhi Capitals",
          "Indian/Kings Xi Punjab",
          "Overseas/Kings Xi Punjab",
          "Indian/Kolkata Knight Riders",
          "Overseas/Kolkata Knight Riders",
          "Indian/Mumbai Indians",
          "Overseas/Mumbai Indians",
          "Indian/Rajasthan Royals",
          "Overseas/Rajasthan Royals",
          "Indian/Royal Challengers Bangalore",
          "Overseas/Royal Challengers Bangalore",
          "Indian/Chennai Super Kings",
          "Overseas/Chennai Super Kings",
          "Indian/Delhi Capitals",
          "Overseas/Delhi Capitals",
          "Indian/Kings Xi Punjab",
          "Overseas/Kings Xi Punjab",
          "Indian/Kolkata Knight Riders",
          "Overseas/Kolkata Knight Riders",
          "Indian/Mumbai Indians",
          "Overseas/Mumbai Indians",
          "Indian/Rajasthan Royals",
          "Overseas/Rajasthan Royals",
          "Indian/Royal Challengers Bangalore",
          "Overseas/Royal Challengers Bangalore",
          "Indian/Chennai Super Kings",
          "Overseas/Chennai Super Kings",
          "Indian/Delhi Capitals",
          "Overseas/Delhi Capitals",
          "Indian/Kings Xi Punjab",
          "Overseas/Kings Xi Punjab",
          "Indian/Kolkata Knight Riders",
          "Overseas/Kolkata Knight Riders",
          "Indian/Mumbai Indians",
          "Overseas/Mumbai Indians",
          "Indian/Rajasthan Royals",
          "Overseas/Rajasthan Royals",
          "Indian/Royal Challengers Bangalore",
          "Overseas/Royal Challengers Bangalore",
          "Indian/Sunrisers Hyderabad",
          "Overseas/Sunrisers Hyderabad",
          "Indian/Chennai Super Kings",
          "Overseas/Chennai Super Kings",
          "Indian/Delhi Capitals",
          "Overseas/Delhi Capitals",
          "Indian/Kings Xi Punjab",
          "Overseas/Kings Xi Punjab",
          "Indian/Kolkata Knight Riders",
          "Overseas/Kolkata Knight Riders",
          "Indian/Mumbai Indians",
          "Overseas/Mumbai Indians",
          "Indian/Rajasthan Royals",
          "Overseas/Rajasthan Royals",
          "Indian/Royal Challengers Bangalore",
          "Overseas/Royal Challengers Bangalore",
          "Indian/Sunrisers Hyderabad",
          "Overseas/Sunrisers Hyderabad",
          "Indian/Chennai Super Kings",
          "Overseas/Chennai Super Kings",
          "Indian/Delhi Capitals",
          "Overseas/Delhi Capitals",
          "Indian/Kings Xi Punjab",
          "Overseas/Kings Xi Punjab",
          "Indian/Kolkata Knight Riders",
          "Overseas/Kolkata Knight Riders",
          "Indian/Mumbai Indians",
          "Overseas/Mumbai Indians",
          "Indian/Rajasthan Royals",
          "Overseas/Rajasthan Royals",
          "Indian/Royal Challengers Bangalore",
          "Overseas/Royal Challengers Bangalore",
          "Indian/Sunrisers Hyderabad",
          "Overseas/Sunrisers Hyderabad",
          "Indian/Delhi Capitals",
          "Overseas/Delhi Capitals",
          "Indian/Kings Xi Punjab",
          "Overseas/Kings Xi Punjab",
          "Indian/Kolkata Knight Riders",
          "Overseas/Kolkata Knight Riders",
          "Indian/Mumbai Indians",
          "Overseas/Mumbai Indians",
          "Indian/Royal Challengers Bangalore",
          "Overseas/Royal Challengers Bangalore",
          "Indian/Sunrisers Hyderabad",
          "Overseas/Sunrisers Hyderabad",
          "Indian/Delhi Capitals",
          "Overseas/Delhi Capitals",
          "Indian/Kings Xi Punjab",
          "Overseas/Kings Xi Punjab",
          "Indian/Kolkata Knight Riders",
          "Overseas/Kolkata Knight Riders",
          "Indian/Mumbai Indians",
          "Overseas/Mumbai Indians",
          "Indian/Royal Challengers Bangalore",
          "Overseas/Royal Challengers Bangalore",
          "Indian/Sunrisers Hyderabad",
          "Overseas/Sunrisers Hyderabad",
          "Indian/Chennai Super Kings",
          "Overseas/Chennai Super Kings",
          "Indian/Delhi Capitals",
          "Overseas/Delhi Capitals",
          "Indian/Kings Xi Punjab",
          "Overseas/Kings Xi Punjab",
          "Indian/Kolkata Knight Riders",
          "Overseas/Kolkata Knight Riders",
          "Indian/Mumbai Indians",
          "Overseas/Mumbai Indians",
          "Indian/Rajasthan Royals",
          "Overseas/Rajasthan Royals",
          "Indian/Royal Challengers Bangalore",
          "Overseas/Royal Challengers Bangalore",
          "Indian/Sunrisers Hyderabad",
          "Overseas/Sunrisers Hyderabad",
          "Indian/Chennai Super Kings",
          "Overseas/Chennai Super Kings",
          "Indian/Delhi Capitals",
          "Overseas/Delhi Capitals",
          "Indian/Kings Xi Punjab",
          "Overseas/Kings Xi Punjab",
          "Indian/Kolkata Knight Riders",
          "Overseas/Kolkata Knight Riders",
          "Indian/Mumbai Indians",
          "Overseas/Mumbai Indians",
          "Indian/Rajasthan Royals",
          "Overseas/Rajasthan Royals",
          "Indian/Royal Challengers Bangalore",
          "Overseas/Royal Challengers Bangalore",
          "Indian/Sunrisers Hyderabad",
          "Overseas/Sunrisers Hyderabad",
          "Indian",
          "Overseas",
          "Indian",
          "Overseas",
          "Indian",
          "Overseas",
          "Indian",
          "Overseas",
          "Indian",
          "Overseas",
          "Indian",
          "Overseas",
          "Indian",
          "Overseas",
          "Indian",
          "Overseas",
          "",
          ""
         ],
         "type": "sunburst",
         "values": [
          6,
          4,
          7,
          4,
          6,
          7,
          7,
          6,
          7,
          6,
          7,
          5,
          9,
          6,
          8,
          5,
          1,
          7,
          6,
          9,
          6,
          9,
          4,
          8,
          7,
          11,
          6,
          6,
          4,
          8,
          7,
          6,
          5,
          7,
          6,
          9,
          5,
          7,
          4,
          6,
          5,
          6,
          2,
          5,
          5,
          7,
          5,
          5,
          4,
          5,
          5,
          6,
          3,
          7,
          4,
          5,
          4,
          7,
          6,
          9,
          5,
          7,
          4,
          5,
          7,
          5,
          5,
          4,
          5,
          7,
          3,
          7,
          5,
          7,
          6,
          6,
          3,
          6,
          5,
          5,
          4,
          6,
          5,
          8,
          5,
          5,
          5,
          7,
          6,
          7,
          5,
          6,
          5,
          7,
          5,
          9,
          6,
          8,
          7,
          6,
          6,
          6,
          5,
          6,
          5,
          9,
          6,
          7,
          4,
          8,
          5,
          5,
          5,
          8,
          7,
          8,
          6,
          6,
          5,
          9,
          6,
          7,
          5,
          8,
          5,
          7,
          4,
          8,
          5,
          7,
          7,
          6,
          7,
          8,
          5,
          10,
          5,
          9,
          4,
          6,
          4,
          8,
          4,
          8,
          5,
          7,
          5,
          7,
          5,
          6,
          4,
          8,
          4,
          7,
          8,
          7,
          6,
          7,
          4,
          8,
          6,
          7,
          4,
          7,
          4,
          8,
          6,
          7,
          5,
          8,
          6,
          6,
          7,
          64,
          40,
          77,
          61,
          87,
          67,
          83,
          57,
          88,
          62,
          67,
          48,
          90,
          67,
          49,
          39,
          605,
          441
         ]
        }
       ],
       "layout": {
        "legend": {
         "tracegroupgap": 0
        },
        "template": {
         "data": {
          "bar": [
           {
            "error_x": {
             "color": "#2a3f5f"
            },
            "error_y": {
             "color": "#2a3f5f"
            },
            "marker": {
             "line": {
              "color": "#E5ECF6",
              "width": 0.5
             },
             "pattern": {
              "fillmode": "overlay",
              "size": 10,
              "solidity": 0.2
             }
            },
            "type": "bar"
           }
          ],
          "barpolar": [
           {
            "marker": {
             "line": {
              "color": "#E5ECF6",
              "width": 0.5
             },
             "pattern": {
              "fillmode": "overlay",
              "size": 10,
              "solidity": 0.2
             }
            },
            "type": "barpolar"
           }
          ],
          "carpet": [
           {
            "aaxis": {
             "endlinecolor": "#2a3f5f",
             "gridcolor": "white",
             "linecolor": "white",
             "minorgridcolor": "white",
             "startlinecolor": "#2a3f5f"
            },
            "baxis": {
             "endlinecolor": "#2a3f5f",
             "gridcolor": "white",
             "linecolor": "white",
             "minorgridcolor": "white",
             "startlinecolor": "#2a3f5f"
            },
            "type": "carpet"
           }
          ],
          "choropleth": [
           {
            "colorbar": {
             "outlinewidth": 0,
             "ticks": ""
            },
            "type": "choropleth"
           }
          ],
          "contour": [
           {
            "colorbar": {
             "outlinewidth": 0,
             "ticks": ""
            },
            "colorscale": [
             [
              0,
              "#0d0887"
             ],
             [
              0.1111111111111111,
              "#46039f"
             ],
             [
              0.2222222222222222,
              "#7201a8"
             ],
             [
              0.3333333333333333,
              "#9c179e"
             ],
             [
              0.4444444444444444,
              "#bd3786"
             ],
             [
              0.5555555555555556,
              "#d8576b"
             ],
             [
              0.6666666666666666,
              "#ed7953"
             ],
             [
              0.7777777777777778,
              "#fb9f3a"
             ],
             [
              0.8888888888888888,
              "#fdca26"
             ],
             [
              1,
              "#f0f921"
             ]
            ],
            "type": "contour"
           }
          ],
          "contourcarpet": [
           {
            "colorbar": {
             "outlinewidth": 0,
             "ticks": ""
            },
            "type": "contourcarpet"
           }
          ],
          "heatmap": [
           {
            "colorbar": {
             "outlinewidth": 0,
             "ticks": ""
            },
            "colorscale": [
             [
              0,
              "#0d0887"
             ],
             [
              0.1111111111111111,
              "#46039f"
             ],
             [
              0.2222222222222222,
              "#7201a8"
             ],
             [
              0.3333333333333333,
              "#9c179e"
             ],
             [
              0.4444444444444444,
              "#bd3786"
             ],
             [
              0.5555555555555556,
              "#d8576b"
             ],
             [
              0.6666666666666666,
              "#ed7953"
             ],
             [
              0.7777777777777778,
              "#fb9f3a"
             ],
             [
              0.8888888888888888,
              "#fdca26"
             ],
             [
              1,
              "#f0f921"
             ]
            ],
            "type": "heatmap"
           }
          ],
          "heatmapgl": [
           {
            "colorbar": {
             "outlinewidth": 0,
             "ticks": ""
            },
            "colorscale": [
             [
              0,
              "#0d0887"
             ],
             [
              0.1111111111111111,
              "#46039f"
             ],
             [
              0.2222222222222222,
              "#7201a8"
             ],
             [
              0.3333333333333333,
              "#9c179e"
             ],
             [
              0.4444444444444444,
              "#bd3786"
             ],
             [
              0.5555555555555556,
              "#d8576b"
             ],
             [
              0.6666666666666666,
              "#ed7953"
             ],
             [
              0.7777777777777778,
              "#fb9f3a"
             ],
             [
              0.8888888888888888,
              "#fdca26"
             ],
             [
              1,
              "#f0f921"
             ]
            ],
            "type": "heatmapgl"
           }
          ],
          "histogram": [
           {
            "marker": {
             "pattern": {
              "fillmode": "overlay",
              "size": 10,
              "solidity": 0.2
             }
            },
            "type": "histogram"
           }
          ],
          "histogram2d": [
           {
            "colorbar": {
             "outlinewidth": 0,
             "ticks": ""
            },
            "colorscale": [
             [
              0,
              "#0d0887"
             ],
             [
              0.1111111111111111,
              "#46039f"
             ],
             [
              0.2222222222222222,
              "#7201a8"
             ],
             [
              0.3333333333333333,
              "#9c179e"
             ],
             [
              0.4444444444444444,
              "#bd3786"
             ],
             [
              0.5555555555555556,
              "#d8576b"
             ],
             [
              0.6666666666666666,
              "#ed7953"
             ],
             [
              0.7777777777777778,
              "#fb9f3a"
             ],
             [
              0.8888888888888888,
              "#fdca26"
             ],
             [
              1,
              "#f0f921"
             ]
            ],
            "type": "histogram2d"
           }
          ],
          "histogram2dcontour": [
           {
            "colorbar": {
             "outlinewidth": 0,
             "ticks": ""
            },
            "colorscale": [
             [
              0,
              "#0d0887"
             ],
             [
              0.1111111111111111,
              "#46039f"
             ],
             [
              0.2222222222222222,
              "#7201a8"
             ],
             [
              0.3333333333333333,
              "#9c179e"
             ],
             [
              0.4444444444444444,
              "#bd3786"
             ],
             [
              0.5555555555555556,
              "#d8576b"
             ],
             [
              0.6666666666666666,
              "#ed7953"
             ],
             [
              0.7777777777777778,
              "#fb9f3a"
             ],
             [
              0.8888888888888888,
              "#fdca26"
             ],
             [
              1,
              "#f0f921"
             ]
            ],
            "type": "histogram2dcontour"
           }
          ],
          "mesh3d": [
           {
            "colorbar": {
             "outlinewidth": 0,
             "ticks": ""
            },
            "type": "mesh3d"
           }
          ],
          "parcoords": [
           {
            "line": {
             "colorbar": {
              "outlinewidth": 0,
              "ticks": ""
             }
            },
            "type": "parcoords"
           }
          ],
          "pie": [
           {
            "automargin": true,
            "type": "pie"
           }
          ],
          "scatter": [
           {
            "fillpattern": {
             "fillmode": "overlay",
             "size": 10,
             "solidity": 0.2
            },
            "type": "scatter"
           }
          ],
          "scatter3d": [
           {
            "line": {
             "colorbar": {
              "outlinewidth": 0,
              "ticks": ""
             }
            },
            "marker": {
             "colorbar": {
              "outlinewidth": 0,
              "ticks": ""
             }
            },
            "type": "scatter3d"
           }
          ],
          "scattercarpet": [
           {
            "marker": {
             "colorbar": {
              "outlinewidth": 0,
              "ticks": ""
             }
            },
            "type": "scattercarpet"
           }
          ],
          "scattergeo": [
           {
            "marker": {
             "colorbar": {
              "outlinewidth": 0,
              "ticks": ""
             }
            },
            "type": "scattergeo"
           }
          ],
          "scattergl": [
           {
            "marker": {
             "colorbar": {
              "outlinewidth": 0,
              "ticks": ""
             }
            },
            "type": "scattergl"
           }
          ],
          "scattermapbox": [
           {
            "marker": {
             "colorbar": {
              "outlinewidth": 0,
              "ticks": ""
             }
            },
            "type": "scattermapbox"
           }
          ],
          "scatterpolar": [
           {
            "marker": {
             "colorbar": {
              "outlinewidth": 0,
              "ticks": ""
             }
            },
            "type": "scatterpolar"
           }
          ],
          "scatterpolargl": [
           {
            "marker": {
             "colorbar": {
              "outlinewidth": 0,
              "ticks": ""
             }
            },
            "type": "scatterpolargl"
           }
          ],
          "scatterternary": [
           {
            "marker": {
             "colorbar": {
              "outlinewidth": 0,
              "ticks": ""
             }
            },
            "type": "scatterternary"
           }
          ],
          "surface": [
           {
            "colorbar": {
             "outlinewidth": 0,
             "ticks": ""
            },
            "colorscale": [
             [
              0,
              "#0d0887"
             ],
             [
              0.1111111111111111,
              "#46039f"
             ],
             [
              0.2222222222222222,
              "#7201a8"
             ],
             [
              0.3333333333333333,
              "#9c179e"
             ],
             [
              0.4444444444444444,
              "#bd3786"
             ],
             [
              0.5555555555555556,
              "#d8576b"
             ],
             [
              0.6666666666666666,
              "#ed7953"
             ],
             [
              0.7777777777777778,
              "#fb9f3a"
             ],
             [
              0.8888888888888888,
              "#fdca26"
             ],
             [
              1,
              "#f0f921"
             ]
            ],
            "type": "surface"
           }
          ],
          "table": [
           {
            "cells": {
             "fill": {
              "color": "#EBF0F8"
             },
             "line": {
              "color": "white"
             }
            },
            "header": {
             "fill": {
              "color": "#C8D4E3"
             },
             "line": {
              "color": "white"
             }
            },
            "type": "table"
           }
          ]
         },
         "layout": {
          "annotationdefaults": {
           "arrowcolor": "#2a3f5f",
           "arrowhead": 0,
           "arrowwidth": 1
          },
          "autotypenumbers": "strict",
          "coloraxis": {
           "colorbar": {
            "outlinewidth": 0,
            "ticks": ""
           }
          },
          "colorscale": {
           "diverging": [
            [
             0,
             "#8e0152"
            ],
            [
             0.1,
             "#c51b7d"
            ],
            [
             0.2,
             "#de77ae"
            ],
            [
             0.3,
             "#f1b6da"
            ],
            [
             0.4,
             "#fde0ef"
            ],
            [
             0.5,
             "#f7f7f7"
            ],
            [
             0.6,
             "#e6f5d0"
            ],
            [
             0.7,
             "#b8e186"
            ],
            [
             0.8,
             "#7fbc41"
            ],
            [
             0.9,
             "#4d9221"
            ],
            [
             1,
             "#276419"
            ]
           ],
           "sequential": [
            [
             0,
             "#0d0887"
            ],
            [
             0.1111111111111111,
             "#46039f"
            ],
            [
             0.2222222222222222,
             "#7201a8"
            ],
            [
             0.3333333333333333,
             "#9c179e"
            ],
            [
             0.4444444444444444,
             "#bd3786"
            ],
            [
             0.5555555555555556,
             "#d8576b"
            ],
            [
             0.6666666666666666,
             "#ed7953"
            ],
            [
             0.7777777777777778,
             "#fb9f3a"
            ],
            [
             0.8888888888888888,
             "#fdca26"
            ],
            [
             1,
             "#f0f921"
            ]
           ],
           "sequentialminus": [
            [
             0,
             "#0d0887"
            ],
            [
             0.1111111111111111,
             "#46039f"
            ],
            [
             0.2222222222222222,
             "#7201a8"
            ],
            [
             0.3333333333333333,
             "#9c179e"
            ],
            [
             0.4444444444444444,
             "#bd3786"
            ],
            [
             0.5555555555555556,
             "#d8576b"
            ],
            [
             0.6666666666666666,
             "#ed7953"
            ],
            [
             0.7777777777777778,
             "#fb9f3a"
            ],
            [
             0.8888888888888888,
             "#fdca26"
            ],
            [
             1,
             "#f0f921"
            ]
           ]
          },
          "colorway": [
           "#636efa",
           "#EF553B",
           "#00cc96",
           "#ab63fa",
           "#FFA15A",
           "#19d3f3",
           "#FF6692",
           "#B6E880",
           "#FF97FF",
           "#FECB52"
          ],
          "font": {
           "color": "#2a3f5f"
          },
          "geo": {
           "bgcolor": "white",
           "lakecolor": "white",
           "landcolor": "#E5ECF6",
           "showlakes": true,
           "showland": true,
           "subunitcolor": "white"
          },
          "hoverlabel": {
           "align": "left"
          },
          "hovermode": "closest",
          "mapbox": {
           "style": "light"
          },
          "paper_bgcolor": "white",
          "plot_bgcolor": "#E5ECF6",
          "polar": {
           "angularaxis": {
            "gridcolor": "white",
            "linecolor": "white",
            "ticks": ""
           },
           "bgcolor": "#E5ECF6",
           "radialaxis": {
            "gridcolor": "white",
            "linecolor": "white",
            "ticks": ""
           }
          },
          "scene": {
           "xaxis": {
            "backgroundcolor": "#E5ECF6",
            "gridcolor": "white",
            "gridwidth": 2,
            "linecolor": "white",
            "showbackground": true,
            "ticks": "",
            "zerolinecolor": "white"
           },
           "yaxis": {
            "backgroundcolor": "#E5ECF6",
            "gridcolor": "white",
            "gridwidth": 2,
            "linecolor": "white",
            "showbackground": true,
            "ticks": "",
            "zerolinecolor": "white"
           },
           "zaxis": {
            "backgroundcolor": "#E5ECF6",
            "gridcolor": "white",
            "gridwidth": 2,
            "linecolor": "white",
            "showbackground": true,
            "ticks": "",
            "zerolinecolor": "white"
           }
          },
          "shapedefaults": {
           "line": {
            "color": "#2a3f5f"
           }
          },
          "ternary": {
           "aaxis": {
            "gridcolor": "white",
            "linecolor": "white",
            "ticks": ""
           },
           "baxis": {
            "gridcolor": "white",
            "linecolor": "white",
            "ticks": ""
           },
           "bgcolor": "#E5ECF6",
           "caxis": {
            "gridcolor": "white",
            "linecolor": "white",
            "ticks": ""
           }
          },
          "title": {
           "x": 0.05
          },
          "xaxis": {
           "automargin": true,
           "gridcolor": "white",
           "linecolor": "white",
           "ticks": "",
           "title": {
            "standoff": 15
           },
           "zerolinecolor": "white",
           "zerolinewidth": 2
          },
          "yaxis": {
           "automargin": true,
           "gridcolor": "white",
           "linecolor": "white",
           "ticks": "",
           "title": {
            "standoff": 15
           },
           "zerolinecolor": "white",
           "zerolinewidth": 2
          }
         }
        },
        "title": {
         "text": "Pie Plot of Nationality, Team,Season"
        }
       }
      },
      "text/html": [
       "<div>                            <div id=\"a98e4519-62d2-4161-beb4-f5d0b9f492ff\" class=\"plotly-graph-div\" style=\"height:525px; width:100%;\"></div>            <script type=\"text/javascript\">                require([\"plotly\"], function(Plotly) {                    window.PLOTLYENV=window.PLOTLYENV || {};                                    if (document.getElementById(\"a98e4519-62d2-4161-beb4-f5d0b9f492ff\")) {                    Plotly.newPlot(                        \"a98e4519-62d2-4161-beb4-f5d0b9f492ff\",                        [{\"branchvalues\":\"total\",\"domain\":{\"x\":[0.0,1.0],\"y\":[0.0,1.0]},\"hovertemplate\":\"labels=%{label}<br>count=%{value}<br>parent=%{parent}<br>id=%{id}<extra></extra>\",\"ids\":[\"Indian/Chennai Super Kings/2008\",\"Overseas/Chennai Super Kings/2008\",\"Indian/Delhi Capitals/2008\",\"Overseas/Delhi Capitals/2008\",\"Indian/Kings Xi Punjab/2008\",\"Overseas/Kings Xi Punjab/2008\",\"Indian/Kolkata Knight Riders/2008\",\"Overseas/Kolkata Knight Riders/2008\",\"Indian/Mumbai Indians/2008\",\"Overseas/Mumbai Indians/2008\",\"Indian/Rajasthan Royals/2008\",\"Overseas/Rajasthan Royals/2008\",\"Indian/Royal Challengers Bangalore/2008\",\"Overseas/Royal Challengers Bangalore/2008\",\"Indian/Chennai Super Kings/2009\",\"Overseas/Chennai Super Kings/2009\",\"Indian/Delhi Capitals/2009\",\"Indian/Kings Xi Punjab/2009\",\"Overseas/Kings Xi Punjab/2009\",\"Indian/Kolkata Knight Riders/2009\",\"Overseas/Kolkata Knight Riders/2009\",\"Indian/Mumbai Indians/2009\",\"Overseas/Mumbai Indians/2009\",\"Indian/Rajasthan Royals/2009\",\"Overseas/Rajasthan Royals/2009\",\"Indian/Royal Challengers Bangalore/2009\",\"Overseas/Royal Challengers Bangalore/2009\",\"Indian/Chennai Super Kings/2010\",\"Overseas/Chennai Super Kings/2010\",\"Indian/Delhi Capitals/2010\",\"Overseas/Delhi Capitals/2010\",\"Indian/Kings Xi Punjab/2010\",\"Overseas/Kings Xi Punjab/2010\",\"Indian/Kolkata Knight Riders/2010\",\"Overseas/Kolkata Knight Riders/2010\",\"Indian/Mumbai Indians/2010\",\"Overseas/Mumbai Indians/2010\",\"Indian/Rajasthan Royals/2010\",\"Overseas/Rajasthan Royals/2010\",\"Indian/Royal Challengers Bangalore/2010\",\"Overseas/Royal Challengers Bangalore/2010\",\"Indian/Chennai Super Kings/2011\",\"Overseas/Chennai Super Kings/2011\",\"Indian/Delhi Capitals/2011\",\"Overseas/Delhi Capitals/2011\",\"Indian/Kings Xi Punjab/2011\",\"Overseas/Kings Xi Punjab/2011\",\"Indian/Kolkata Knight Riders/2011\",\"Overseas/Kolkata Knight Riders/2011\",\"Indian/Mumbai Indians/2011\",\"Overseas/Mumbai Indians/2011\",\"Indian/Rajasthan Royals/2011\",\"Overseas/Rajasthan Royals/2011\",\"Indian/Royal Challengers Bangalore/2011\",\"Overseas/Royal Challengers Bangalore/2011\",\"Indian/Chennai Super Kings/2012\",\"Overseas/Chennai Super Kings/2012\",\"Indian/Delhi Capitals/2012\",\"Overseas/Delhi Capitals/2012\",\"Indian/Kings Xi Punjab/2012\",\"Overseas/Kings Xi Punjab/2012\",\"Indian/Kolkata Knight Riders/2012\",\"Overseas/Kolkata Knight Riders/2012\",\"Indian/Mumbai Indians/2012\",\"Overseas/Mumbai Indians/2012\",\"Indian/Rajasthan Royals/2012\",\"Overseas/Rajasthan Royals/2012\",\"Indian/Royal Challengers Bangalore/2012\",\"Overseas/Royal Challengers Bangalore/2012\",\"Indian/Chennai Super Kings/2013\",\"Overseas/Chennai Super Kings/2013\",\"Indian/Delhi Capitals/2013\",\"Overseas/Delhi Capitals/2013\",\"Indian/Kings Xi Punjab/2013\",\"Overseas/Kings Xi Punjab/2013\",\"Indian/Kolkata Knight Riders/2013\",\"Overseas/Kolkata Knight Riders/2013\",\"Indian/Mumbai Indians/2013\",\"Overseas/Mumbai Indians/2013\",\"Indian/Rajasthan Royals/2013\",\"Overseas/Rajasthan Royals/2013\",\"Indian/Royal Challengers Bangalore/2013\",\"Overseas/Royal Challengers Bangalore/2013\",\"Indian/Sunrisers Hyderabad/2013\",\"Overseas/Sunrisers Hyderabad/2013\",\"Indian/Chennai Super Kings/2014\",\"Overseas/Chennai Super Kings/2014\",\"Indian/Delhi Capitals/2014\",\"Overseas/Delhi Capitals/2014\",\"Indian/Kings Xi Punjab/2014\",\"Overseas/Kings Xi Punjab/2014\",\"Indian/Kolkata Knight Riders/2014\",\"Overseas/Kolkata Knight Riders/2014\",\"Indian/Mumbai Indians/2014\",\"Overseas/Mumbai Indians/2014\",\"Indian/Rajasthan Royals/2014\",\"Overseas/Rajasthan Royals/2014\",\"Indian/Royal Challengers Bangalore/2014\",\"Overseas/Royal Challengers Bangalore/2014\",\"Indian/Sunrisers Hyderabad/2014\",\"Overseas/Sunrisers Hyderabad/2014\",\"Indian/Chennai Super Kings/2015\",\"Overseas/Chennai Super Kings/2015\",\"Indian/Delhi Capitals/2015\",\"Overseas/Delhi Capitals/2015\",\"Indian/Kings Xi Punjab/2015\",\"Overseas/Kings Xi Punjab/2015\",\"Indian/Kolkata Knight Riders/2015\",\"Overseas/Kolkata Knight Riders/2015\",\"Indian/Mumbai Indians/2015\",\"Overseas/Mumbai Indians/2015\",\"Indian/Rajasthan Royals/2015\",\"Overseas/Rajasthan Royals/2015\",\"Indian/Royal Challengers Bangalore/2015\",\"Overseas/Royal Challengers Bangalore/2015\",\"Indian/Sunrisers Hyderabad/2015\",\"Overseas/Sunrisers Hyderabad/2015\",\"Indian/Delhi Capitals/2016\",\"Overseas/Delhi Capitals/2016\",\"Indian/Kings Xi Punjab/2016\",\"Overseas/Kings Xi Punjab/2016\",\"Indian/Kolkata Knight Riders/2016\",\"Overseas/Kolkata Knight Riders/2016\",\"Indian/Mumbai Indians/2016\",\"Overseas/Mumbai Indians/2016\",\"Indian/Royal Challengers Bangalore/2016\",\"Overseas/Royal Challengers Bangalore/2016\",\"Indian/Sunrisers Hyderabad/2016\",\"Overseas/Sunrisers Hyderabad/2016\",\"Indian/Delhi Capitals/2017\",\"Overseas/Delhi Capitals/2017\",\"Indian/Kings Xi Punjab/2017\",\"Overseas/Kings Xi Punjab/2017\",\"Indian/Kolkata Knight Riders/2017\",\"Overseas/Kolkata Knight Riders/2017\",\"Indian/Mumbai Indians/2017\",\"Overseas/Mumbai Indians/2017\",\"Indian/Royal Challengers Bangalore/2017\",\"Overseas/Royal Challengers Bangalore/2017\",\"Indian/Sunrisers Hyderabad/2017\",\"Overseas/Sunrisers Hyderabad/2017\",\"Indian/Chennai Super Kings/2018\",\"Overseas/Chennai Super Kings/2018\",\"Indian/Delhi Capitals/2018\",\"Overseas/Delhi Capitals/2018\",\"Indian/Kings Xi Punjab/2018\",\"Overseas/Kings Xi Punjab/2018\",\"Indian/Kolkata Knight Riders/2018\",\"Overseas/Kolkata Knight Riders/2018\",\"Indian/Mumbai Indians/2018\",\"Overseas/Mumbai Indians/2018\",\"Indian/Rajasthan Royals/2018\",\"Overseas/Rajasthan Royals/2018\",\"Indian/Royal Challengers Bangalore/2018\",\"Overseas/Royal Challengers Bangalore/2018\",\"Indian/Sunrisers Hyderabad/2018\",\"Overseas/Sunrisers Hyderabad/2018\",\"Indian/Chennai Super Kings/2019\",\"Overseas/Chennai Super Kings/2019\",\"Indian/Delhi Capitals/2019\",\"Overseas/Delhi Capitals/2019\",\"Indian/Kings Xi Punjab/2019\",\"Overseas/Kings Xi Punjab/2019\",\"Indian/Kolkata Knight Riders/2019\",\"Overseas/Kolkata Knight Riders/2019\",\"Indian/Mumbai Indians/2019\",\"Overseas/Mumbai Indians/2019\",\"Indian/Rajasthan Royals/2019\",\"Overseas/Rajasthan Royals/2019\",\"Indian/Royal Challengers Bangalore/2019\",\"Overseas/Royal Challengers Bangalore/2019\",\"Indian/Sunrisers Hyderabad/2019\",\"Overseas/Sunrisers Hyderabad/2019\",\"Indian/Chennai Super Kings\",\"Overseas/Chennai Super Kings\",\"Indian/Delhi Capitals\",\"Overseas/Delhi Capitals\",\"Indian/Kings Xi Punjab\",\"Overseas/Kings Xi Punjab\",\"Indian/Kolkata Knight Riders\",\"Overseas/Kolkata Knight Riders\",\"Indian/Mumbai Indians\",\"Overseas/Mumbai Indians\",\"Indian/Rajasthan Royals\",\"Overseas/Rajasthan Royals\",\"Indian/Royal Challengers Bangalore\",\"Overseas/Royal Challengers Bangalore\",\"Indian/Sunrisers Hyderabad\",\"Overseas/Sunrisers Hyderabad\",\"Indian\",\"Overseas\"],\"labels\":[\"2008\",\"2008\",\"2008\",\"2008\",\"2008\",\"2008\",\"2008\",\"2008\",\"2008\",\"2008\",\"2008\",\"2008\",\"2008\",\"2008\",\"2009\",\"2009\",\"2009\",\"2009\",\"2009\",\"2009\",\"2009\",\"2009\",\"2009\",\"2009\",\"2009\",\"2009\",\"2009\",\"2010\",\"2010\",\"2010\",\"2010\",\"2010\",\"2010\",\"2010\",\"2010\",\"2010\",\"2010\",\"2010\",\"2010\",\"2010\",\"2010\",\"2011\",\"2011\",\"2011\",\"2011\",\"2011\",\"2011\",\"2011\",\"2011\",\"2011\",\"2011\",\"2011\",\"2011\",\"2011\",\"2011\",\"2012\",\"2012\",\"2012\",\"2012\",\"2012\",\"2012\",\"2012\",\"2012\",\"2012\",\"2012\",\"2012\",\"2012\",\"2012\",\"2012\",\"2013\",\"2013\",\"2013\",\"2013\",\"2013\",\"2013\",\"2013\",\"2013\",\"2013\",\"2013\",\"2013\",\"2013\",\"2013\",\"2013\",\"2013\",\"2013\",\"2014\",\"2014\",\"2014\",\"2014\",\"2014\",\"2014\",\"2014\",\"2014\",\"2014\",\"2014\",\"2014\",\"2014\",\"2014\",\"2014\",\"2014\",\"2014\",\"2015\",\"2015\",\"2015\",\"2015\",\"2015\",\"2015\",\"2015\",\"2015\",\"2015\",\"2015\",\"2015\",\"2015\",\"2015\",\"2015\",\"2015\",\"2015\",\"2016\",\"2016\",\"2016\",\"2016\",\"2016\",\"2016\",\"2016\",\"2016\",\"2016\",\"2016\",\"2016\",\"2016\",\"2017\",\"2017\",\"2017\",\"2017\",\"2017\",\"2017\",\"2017\",\"2017\",\"2017\",\"2017\",\"2017\",\"2017\",\"2018\",\"2018\",\"2018\",\"2018\",\"2018\",\"2018\",\"2018\",\"2018\",\"2018\",\"2018\",\"2018\",\"2018\",\"2018\",\"2018\",\"2018\",\"2018\",\"2019\",\"2019\",\"2019\",\"2019\",\"2019\",\"2019\",\"2019\",\"2019\",\"2019\",\"2019\",\"2019\",\"2019\",\"2019\",\"2019\",\"2019\",\"2019\",\"Chennai Super Kings\",\"Chennai Super Kings\",\"Delhi Capitals\",\"Delhi Capitals\",\"Kings Xi Punjab\",\"Kings Xi Punjab\",\"Kolkata Knight Riders\",\"Kolkata Knight Riders\",\"Mumbai Indians\",\"Mumbai Indians\",\"Rajasthan Royals\",\"Rajasthan Royals\",\"Royal Challengers Bangalore\",\"Royal Challengers Bangalore\",\"Sunrisers Hyderabad\",\"Sunrisers Hyderabad\",\"Indian\",\"Overseas\"],\"name\":\"\",\"parents\":[\"Indian/Chennai Super Kings\",\"Overseas/Chennai Super Kings\",\"Indian/Delhi Capitals\",\"Overseas/Delhi Capitals\",\"Indian/Kings Xi Punjab\",\"Overseas/Kings Xi Punjab\",\"Indian/Kolkata Knight Riders\",\"Overseas/Kolkata Knight Riders\",\"Indian/Mumbai Indians\",\"Overseas/Mumbai Indians\",\"Indian/Rajasthan Royals\",\"Overseas/Rajasthan Royals\",\"Indian/Royal Challengers Bangalore\",\"Overseas/Royal Challengers Bangalore\",\"Indian/Chennai Super Kings\",\"Overseas/Chennai Super Kings\",\"Indian/Delhi Capitals\",\"Indian/Kings Xi Punjab\",\"Overseas/Kings Xi Punjab\",\"Indian/Kolkata Knight Riders\",\"Overseas/Kolkata Knight Riders\",\"Indian/Mumbai Indians\",\"Overseas/Mumbai Indians\",\"Indian/Rajasthan Royals\",\"Overseas/Rajasthan Royals\",\"Indian/Royal Challengers Bangalore\",\"Overseas/Royal Challengers Bangalore\",\"Indian/Chennai Super Kings\",\"Overseas/Chennai Super Kings\",\"Indian/Delhi Capitals\",\"Overseas/Delhi Capitals\",\"Indian/Kings Xi Punjab\",\"Overseas/Kings Xi Punjab\",\"Indian/Kolkata Knight Riders\",\"Overseas/Kolkata Knight Riders\",\"Indian/Mumbai Indians\",\"Overseas/Mumbai Indians\",\"Indian/Rajasthan Royals\",\"Overseas/Rajasthan Royals\",\"Indian/Royal Challengers Bangalore\",\"Overseas/Royal Challengers Bangalore\",\"Indian/Chennai Super Kings\",\"Overseas/Chennai Super Kings\",\"Indian/Delhi Capitals\",\"Overseas/Delhi Capitals\",\"Indian/Kings Xi Punjab\",\"Overseas/Kings Xi Punjab\",\"Indian/Kolkata Knight Riders\",\"Overseas/Kolkata Knight Riders\",\"Indian/Mumbai Indians\",\"Overseas/Mumbai Indians\",\"Indian/Rajasthan Royals\",\"Overseas/Rajasthan Royals\",\"Indian/Royal Challengers Bangalore\",\"Overseas/Royal Challengers Bangalore\",\"Indian/Chennai Super Kings\",\"Overseas/Chennai Super Kings\",\"Indian/Delhi Capitals\",\"Overseas/Delhi Capitals\",\"Indian/Kings Xi Punjab\",\"Overseas/Kings Xi Punjab\",\"Indian/Kolkata Knight Riders\",\"Overseas/Kolkata Knight Riders\",\"Indian/Mumbai Indians\",\"Overseas/Mumbai Indians\",\"Indian/Rajasthan Royals\",\"Overseas/Rajasthan Royals\",\"Indian/Royal Challengers Bangalore\",\"Overseas/Royal Challengers Bangalore\",\"Indian/Chennai Super Kings\",\"Overseas/Chennai Super Kings\",\"Indian/Delhi Capitals\",\"Overseas/Delhi Capitals\",\"Indian/Kings Xi Punjab\",\"Overseas/Kings Xi Punjab\",\"Indian/Kolkata Knight Riders\",\"Overseas/Kolkata Knight Riders\",\"Indian/Mumbai Indians\",\"Overseas/Mumbai Indians\",\"Indian/Rajasthan Royals\",\"Overseas/Rajasthan Royals\",\"Indian/Royal Challengers Bangalore\",\"Overseas/Royal Challengers Bangalore\",\"Indian/Sunrisers Hyderabad\",\"Overseas/Sunrisers Hyderabad\",\"Indian/Chennai Super Kings\",\"Overseas/Chennai Super Kings\",\"Indian/Delhi Capitals\",\"Overseas/Delhi Capitals\",\"Indian/Kings Xi Punjab\",\"Overseas/Kings Xi Punjab\",\"Indian/Kolkata Knight Riders\",\"Overseas/Kolkata Knight Riders\",\"Indian/Mumbai Indians\",\"Overseas/Mumbai Indians\",\"Indian/Rajasthan Royals\",\"Overseas/Rajasthan Royals\",\"Indian/Royal Challengers Bangalore\",\"Overseas/Royal Challengers Bangalore\",\"Indian/Sunrisers Hyderabad\",\"Overseas/Sunrisers Hyderabad\",\"Indian/Chennai Super Kings\",\"Overseas/Chennai Super Kings\",\"Indian/Delhi Capitals\",\"Overseas/Delhi Capitals\",\"Indian/Kings Xi Punjab\",\"Overseas/Kings Xi Punjab\",\"Indian/Kolkata Knight Riders\",\"Overseas/Kolkata Knight Riders\",\"Indian/Mumbai Indians\",\"Overseas/Mumbai Indians\",\"Indian/Rajasthan Royals\",\"Overseas/Rajasthan Royals\",\"Indian/Royal Challengers Bangalore\",\"Overseas/Royal Challengers Bangalore\",\"Indian/Sunrisers Hyderabad\",\"Overseas/Sunrisers Hyderabad\",\"Indian/Delhi Capitals\",\"Overseas/Delhi Capitals\",\"Indian/Kings Xi Punjab\",\"Overseas/Kings Xi Punjab\",\"Indian/Kolkata Knight Riders\",\"Overseas/Kolkata Knight Riders\",\"Indian/Mumbai Indians\",\"Overseas/Mumbai Indians\",\"Indian/Royal Challengers Bangalore\",\"Overseas/Royal Challengers Bangalore\",\"Indian/Sunrisers Hyderabad\",\"Overseas/Sunrisers Hyderabad\",\"Indian/Delhi Capitals\",\"Overseas/Delhi Capitals\",\"Indian/Kings Xi Punjab\",\"Overseas/Kings Xi Punjab\",\"Indian/Kolkata Knight Riders\",\"Overseas/Kolkata Knight Riders\",\"Indian/Mumbai Indians\",\"Overseas/Mumbai Indians\",\"Indian/Royal Challengers Bangalore\",\"Overseas/Royal Challengers Bangalore\",\"Indian/Sunrisers Hyderabad\",\"Overseas/Sunrisers Hyderabad\",\"Indian/Chennai Super Kings\",\"Overseas/Chennai Super Kings\",\"Indian/Delhi Capitals\",\"Overseas/Delhi Capitals\",\"Indian/Kings Xi Punjab\",\"Overseas/Kings Xi Punjab\",\"Indian/Kolkata Knight Riders\",\"Overseas/Kolkata Knight Riders\",\"Indian/Mumbai Indians\",\"Overseas/Mumbai Indians\",\"Indian/Rajasthan Royals\",\"Overseas/Rajasthan Royals\",\"Indian/Royal Challengers Bangalore\",\"Overseas/Royal Challengers Bangalore\",\"Indian/Sunrisers Hyderabad\",\"Overseas/Sunrisers Hyderabad\",\"Indian/Chennai Super Kings\",\"Overseas/Chennai Super Kings\",\"Indian/Delhi Capitals\",\"Overseas/Delhi Capitals\",\"Indian/Kings Xi Punjab\",\"Overseas/Kings Xi Punjab\",\"Indian/Kolkata Knight Riders\",\"Overseas/Kolkata Knight Riders\",\"Indian/Mumbai Indians\",\"Overseas/Mumbai Indians\",\"Indian/Rajasthan Royals\",\"Overseas/Rajasthan Royals\",\"Indian/Royal Challengers Bangalore\",\"Overseas/Royal Challengers Bangalore\",\"Indian/Sunrisers Hyderabad\",\"Overseas/Sunrisers Hyderabad\",\"Indian\",\"Overseas\",\"Indian\",\"Overseas\",\"Indian\",\"Overseas\",\"Indian\",\"Overseas\",\"Indian\",\"Overseas\",\"Indian\",\"Overseas\",\"Indian\",\"Overseas\",\"Indian\",\"Overseas\",\"\",\"\"],\"values\":[6,4,7,4,6,7,7,6,7,6,7,5,9,6,8,5,1,7,6,9,6,9,4,8,7,11,6,6,4,8,7,6,5,7,6,9,5,7,4,6,5,6,2,5,5,7,5,5,4,5,5,6,3,7,4,5,4,7,6,9,5,7,4,5,7,5,5,4,5,7,3,7,5,7,6,6,3,6,5,5,4,6,5,8,5,5,5,7,6,7,5,6,5,7,5,9,6,8,7,6,6,6,5,6,5,9,6,7,4,8,5,5,5,8,7,8,6,6,5,9,6,7,5,8,5,7,4,8,5,7,7,6,7,8,5,10,5,9,4,6,4,8,4,8,5,7,5,7,5,6,4,8,4,7,8,7,6,7,4,8,6,7,4,7,4,8,6,7,5,8,6,6,7,64,40,77,61,87,67,83,57,88,62,67,48,90,67,49,39,605,441],\"type\":\"sunburst\"}],                        {\"template\":{\"data\":{\"histogram2dcontour\":[{\"type\":\"histogram2dcontour\",\"colorbar\":{\"outlinewidth\":0,\"ticks\":\"\"},\"colorscale\":[[0.0,\"#0d0887\"],[0.1111111111111111,\"#46039f\"],[0.2222222222222222,\"#7201a8\"],[0.3333333333333333,\"#9c179e\"],[0.4444444444444444,\"#bd3786\"],[0.5555555555555556,\"#d8576b\"],[0.6666666666666666,\"#ed7953\"],[0.7777777777777778,\"#fb9f3a\"],[0.8888888888888888,\"#fdca26\"],[1.0,\"#f0f921\"]]}],\"choropleth\":[{\"type\":\"choropleth\",\"colorbar\":{\"outlinewidth\":0,\"ticks\":\"\"}}],\"histogram2d\":[{\"type\":\"histogram2d\",\"colorbar\":{\"outlinewidth\":0,\"ticks\":\"\"},\"colorscale\":[[0.0,\"#0d0887\"],[0.1111111111111111,\"#46039f\"],[0.2222222222222222,\"#7201a8\"],[0.3333333333333333,\"#9c179e\"],[0.4444444444444444,\"#bd3786\"],[0.5555555555555556,\"#d8576b\"],[0.6666666666666666,\"#ed7953\"],[0.7777777777777778,\"#fb9f3a\"],[0.8888888888888888,\"#fdca26\"],[1.0,\"#f0f921\"]]}],\"heatmap\":[{\"type\":\"heatmap\",\"colorbar\":{\"outlinewidth\":0,\"ticks\":\"\"},\"colorscale\":[[0.0,\"#0d0887\"],[0.1111111111111111,\"#46039f\"],[0.2222222222222222,\"#7201a8\"],[0.3333333333333333,\"#9c179e\"],[0.4444444444444444,\"#bd3786\"],[0.5555555555555556,\"#d8576b\"],[0.6666666666666666,\"#ed7953\"],[0.7777777777777778,\"#fb9f3a\"],[0.8888888888888888,\"#fdca26\"],[1.0,\"#f0f921\"]]}],\"heatmapgl\":[{\"type\":\"heatmapgl\",\"colorbar\":{\"outlinewidth\":0,\"ticks\":\"\"},\"colorscale\":[[0.0,\"#0d0887\"],[0.1111111111111111,\"#46039f\"],[0.2222222222222222,\"#7201a8\"],[0.3333333333333333,\"#9c179e\"],[0.4444444444444444,\"#bd3786\"],[0.5555555555555556,\"#d8576b\"],[0.6666666666666666,\"#ed7953\"],[0.7777777777777778,\"#fb9f3a\"],[0.8888888888888888,\"#fdca26\"],[1.0,\"#f0f921\"]]}],\"contourcarpet\":[{\"type\":\"contourcarpet\",\"colorbar\":{\"outlinewidth\":0,\"ticks\":\"\"}}],\"contour\":[{\"type\":\"contour\",\"colorbar\":{\"outlinewidth\":0,\"ticks\":\"\"},\"colorscale\":[[0.0,\"#0d0887\"],[0.1111111111111111,\"#46039f\"],[0.2222222222222222,\"#7201a8\"],[0.3333333333333333,\"#9c179e\"],[0.4444444444444444,\"#bd3786\"],[0.5555555555555556,\"#d8576b\"],[0.6666666666666666,\"#ed7953\"],[0.7777777777777778,\"#fb9f3a\"],[0.8888888888888888,\"#fdca26\"],[1.0,\"#f0f921\"]]}],\"surface\":[{\"type\":\"surface\",\"colorbar\":{\"outlinewidth\":0,\"ticks\":\"\"},\"colorscale\":[[0.0,\"#0d0887\"],[0.1111111111111111,\"#46039f\"],[0.2222222222222222,\"#7201a8\"],[0.3333333333333333,\"#9c179e\"],[0.4444444444444444,\"#bd3786\"],[0.5555555555555556,\"#d8576b\"],[0.6666666666666666,\"#ed7953\"],[0.7777777777777778,\"#fb9f3a\"],[0.8888888888888888,\"#fdca26\"],[1.0,\"#f0f921\"]]}],\"mesh3d\":[{\"type\":\"mesh3d\",\"colorbar\":{\"outlinewidth\":0,\"ticks\":\"\"}}],\"scatter\":[{\"fillpattern\":{\"fillmode\":\"overlay\",\"size\":10,\"solidity\":0.2},\"type\":\"scatter\"}],\"parcoords\":[{\"type\":\"parcoords\",\"line\":{\"colorbar\":{\"outlinewidth\":0,\"ticks\":\"\"}}}],\"scatterpolargl\":[{\"type\":\"scatterpolargl\",\"marker\":{\"colorbar\":{\"outlinewidth\":0,\"ticks\":\"\"}}}],\"bar\":[{\"error_x\":{\"color\":\"#2a3f5f\"},\"error_y\":{\"color\":\"#2a3f5f\"},\"marker\":{\"line\":{\"color\":\"#E5ECF6\",\"width\":0.5},\"pattern\":{\"fillmode\":\"overlay\",\"size\":10,\"solidity\":0.2}},\"type\":\"bar\"}],\"scattergeo\":[{\"type\":\"scattergeo\",\"marker\":{\"colorbar\":{\"outlinewidth\":0,\"ticks\":\"\"}}}],\"scatterpolar\":[{\"type\":\"scatterpolar\",\"marker\":{\"colorbar\":{\"outlinewidth\":0,\"ticks\":\"\"}}}],\"histogram\":[{\"marker\":{\"pattern\":{\"fillmode\":\"overlay\",\"size\":10,\"solidity\":0.2}},\"type\":\"histogram\"}],\"scattergl\":[{\"type\":\"scattergl\",\"marker\":{\"colorbar\":{\"outlinewidth\":0,\"ticks\":\"\"}}}],\"scatter3d\":[{\"type\":\"scatter3d\",\"line\":{\"colorbar\":{\"outlinewidth\":0,\"ticks\":\"\"}},\"marker\":{\"colorbar\":{\"outlinewidth\":0,\"ticks\":\"\"}}}],\"scattermapbox\":[{\"type\":\"scattermapbox\",\"marker\":{\"colorbar\":{\"outlinewidth\":0,\"ticks\":\"\"}}}],\"scatterternary\":[{\"type\":\"scatterternary\",\"marker\":{\"colorbar\":{\"outlinewidth\":0,\"ticks\":\"\"}}}],\"scattercarpet\":[{\"type\":\"scattercarpet\",\"marker\":{\"colorbar\":{\"outlinewidth\":0,\"ticks\":\"\"}}}],\"carpet\":[{\"aaxis\":{\"endlinecolor\":\"#2a3f5f\",\"gridcolor\":\"white\",\"linecolor\":\"white\",\"minorgridcolor\":\"white\",\"startlinecolor\":\"#2a3f5f\"},\"baxis\":{\"endlinecolor\":\"#2a3f5f\",\"gridcolor\":\"white\",\"linecolor\":\"white\",\"minorgridcolor\":\"white\",\"startlinecolor\":\"#2a3f5f\"},\"type\":\"carpet\"}],\"table\":[{\"cells\":{\"fill\":{\"color\":\"#EBF0F8\"},\"line\":{\"color\":\"white\"}},\"header\":{\"fill\":{\"color\":\"#C8D4E3\"},\"line\":{\"color\":\"white\"}},\"type\":\"table\"}],\"barpolar\":[{\"marker\":{\"line\":{\"color\":\"#E5ECF6\",\"width\":0.5},\"pattern\":{\"fillmode\":\"overlay\",\"size\":10,\"solidity\":0.2}},\"type\":\"barpolar\"}],\"pie\":[{\"automargin\":true,\"type\":\"pie\"}]},\"layout\":{\"autotypenumbers\":\"strict\",\"colorway\":[\"#636efa\",\"#EF553B\",\"#00cc96\",\"#ab63fa\",\"#FFA15A\",\"#19d3f3\",\"#FF6692\",\"#B6E880\",\"#FF97FF\",\"#FECB52\"],\"font\":{\"color\":\"#2a3f5f\"},\"hovermode\":\"closest\",\"hoverlabel\":{\"align\":\"left\"},\"paper_bgcolor\":\"white\",\"plot_bgcolor\":\"#E5ECF6\",\"polar\":{\"bgcolor\":\"#E5ECF6\",\"angularaxis\":{\"gridcolor\":\"white\",\"linecolor\":\"white\",\"ticks\":\"\"},\"radialaxis\":{\"gridcolor\":\"white\",\"linecolor\":\"white\",\"ticks\":\"\"}},\"ternary\":{\"bgcolor\":\"#E5ECF6\",\"aaxis\":{\"gridcolor\":\"white\",\"linecolor\":\"white\",\"ticks\":\"\"},\"baxis\":{\"gridcolor\":\"white\",\"linecolor\":\"white\",\"ticks\":\"\"},\"caxis\":{\"gridcolor\":\"white\",\"linecolor\":\"white\",\"ticks\":\"\"}},\"coloraxis\":{\"colorbar\":{\"outlinewidth\":0,\"ticks\":\"\"}},\"colorscale\":{\"sequential\":[[0.0,\"#0d0887\"],[0.1111111111111111,\"#46039f\"],[0.2222222222222222,\"#7201a8\"],[0.3333333333333333,\"#9c179e\"],[0.4444444444444444,\"#bd3786\"],[0.5555555555555556,\"#d8576b\"],[0.6666666666666666,\"#ed7953\"],[0.7777777777777778,\"#fb9f3a\"],[0.8888888888888888,\"#fdca26\"],[1.0,\"#f0f921\"]],\"sequentialminus\":[[0.0,\"#0d0887\"],[0.1111111111111111,\"#46039f\"],[0.2222222222222222,\"#7201a8\"],[0.3333333333333333,\"#9c179e\"],[0.4444444444444444,\"#bd3786\"],[0.5555555555555556,\"#d8576b\"],[0.6666666666666666,\"#ed7953\"],[0.7777777777777778,\"#fb9f3a\"],[0.8888888888888888,\"#fdca26\"],[1.0,\"#f0f921\"]],\"diverging\":[[0,\"#8e0152\"],[0.1,\"#c51b7d\"],[0.2,\"#de77ae\"],[0.3,\"#f1b6da\"],[0.4,\"#fde0ef\"],[0.5,\"#f7f7f7\"],[0.6,\"#e6f5d0\"],[0.7,\"#b8e186\"],[0.8,\"#7fbc41\"],[0.9,\"#4d9221\"],[1,\"#276419\"]]},\"xaxis\":{\"gridcolor\":\"white\",\"linecolor\":\"white\",\"ticks\":\"\",\"title\":{\"standoff\":15},\"zerolinecolor\":\"white\",\"automargin\":true,\"zerolinewidth\":2},\"yaxis\":{\"gridcolor\":\"white\",\"linecolor\":\"white\",\"ticks\":\"\",\"title\":{\"standoff\":15},\"zerolinecolor\":\"white\",\"automargin\":true,\"zerolinewidth\":2},\"scene\":{\"xaxis\":{\"backgroundcolor\":\"#E5ECF6\",\"gridcolor\":\"white\",\"linecolor\":\"white\",\"showbackground\":true,\"ticks\":\"\",\"zerolinecolor\":\"white\",\"gridwidth\":2},\"yaxis\":{\"backgroundcolor\":\"#E5ECF6\",\"gridcolor\":\"white\",\"linecolor\":\"white\",\"showbackground\":true,\"ticks\":\"\",\"zerolinecolor\":\"white\",\"gridwidth\":2},\"zaxis\":{\"backgroundcolor\":\"#E5ECF6\",\"gridcolor\":\"white\",\"linecolor\":\"white\",\"showbackground\":true,\"ticks\":\"\",\"zerolinecolor\":\"white\",\"gridwidth\":2}},\"shapedefaults\":{\"line\":{\"color\":\"#2a3f5f\"}},\"annotationdefaults\":{\"arrowcolor\":\"#2a3f5f\",\"arrowhead\":0,\"arrowwidth\":1},\"geo\":{\"bgcolor\":\"white\",\"landcolor\":\"#E5ECF6\",\"subunitcolor\":\"white\",\"showland\":true,\"showlakes\":true,\"lakecolor\":\"white\"},\"title\":{\"x\":0.05},\"mapbox\":{\"style\":\"light\"}}},\"legend\":{\"tracegroupgap\":0},\"title\":{\"text\":\"Pie Plot of Nationality, Team,Season\"}},                        {\"responsive\": true}                    ).then(function(){\n",
       "                            \n",
       "var gd = document.getElementById('a98e4519-62d2-4161-beb4-f5d0b9f492ff');\n",
       "var x = new MutationObserver(function (mutations, observer) {{\n",
       "        var display = window.getComputedStyle(gd).display;\n",
       "        if (!display || display === 'none') {{\n",
       "            console.log([gd, 'removed!']);\n",
       "            Plotly.purge(gd);\n",
       "            observer.disconnect();\n",
       "        }}\n",
       "}});\n",
       "\n",
       "// Listen for the removal of the full notebook cells\n",
       "var notebookContainer = gd.closest('#notebook-container');\n",
       "if (notebookContainer) {{\n",
       "    x.observe(notebookContainer, {childList: true});\n",
       "}}\n",
       "\n",
       "// Listen for the clearing of the current output cell\n",
       "var outputEl = gd.closest('.output');\n",
       "if (outputEl) {{\n",
       "    x.observe(outputEl, {childList: true});\n",
       "}}\n",
       "\n",
       "                        })                };                });            </script>        </div>"
      ]
     },
     "metadata": {},
     "output_type": "display_data"
    }
   ],
   "source": [
    "import plotly.express as px\n",
    "import plotly.io as pio\n",
    "\n",
    "fig = px.sunburst(df, path=['Nationality', 'Team','Season'], \n",
    "                  title='Pie Plot of Nationality, Team,Season')\n",
    "fig.show()"
   ]
  },
  {
   "cell_type": "code",
   "execution_count": 30,
   "id": "d3fe5402",
   "metadata": {},
   "outputs": [
    {
     "data": {
      "image/png": "[encoded data removed]",
      "text/plain": [
       "<Figure size 1000x600 with 1 Axes>"
      ]
     },
     "metadata": {},
     "output_type": "display_data"
    }
   ],
   "source": [
    "import seaborn as sns\n",
    "# Sort batting_data by boundaries (sixes) in descending order and select top 10 players\n",
    "top_boundaries = df.sort_values(by='4s', ascending=False).head(10)\n",
    "\n",
    "# Plotting\n",
    "plt.figure(figsize=(10, 6))\n",
    "sns.barplot(x='4s', y='PLAYER', data=top_boundaries, palette='plasma')\n",
    "plt.xlabel('Number of 4s')\n",
    "plt.ylabel('PLAYER')\n",
    "plt.title('Top 10 Players by Highest Number of 4s')\n",
    "plt.show()"
   ]
  },
  {
   "cell_type": "code",
   "execution_count": 31,
   "id": "5268f323",
   "metadata": {},
   "outputs": [
    {
     "data": {
      "image/png": "[encoded data removed]",
      "text/plain": [
       "<Figure size 1000x600 with 1 Axes>"
      ]
     },
     "metadata": {},
     "output_type": "display_data"
    }
   ],
   "source": [
    "import seaborn as sns\n",
    "# Sort batting_data by boundaries (sixes) in descending order and select top 10 players\n",
    "top_boundaries = df.sort_values(by='6s', ascending=False).head(10)\n",
    "\n",
    "# Plotting\n",
    "plt.figure(figsize=(10, 6))\n",
    "sns.barplot(x='6s', y='PLAYER', data=top_boundaries, palette='plasma')\n",
    "plt.xlabel('Number of 6s')\n",
    "plt.ylabel('PLAYER')\n",
    "plt.title('Top 10 Players by Highest Number of 6s')\n",
    "plt.show()"
   ]
  },
  {
   "cell_type": "code",
   "execution_count": 36,
   "id": "0a26c75d",
   "metadata": {},
   "outputs": [
    {
     "data": {
      "image/png": "[encoded data removed]",
      "text/plain": [
       "<Figure size 1000x600 with 1 Axes>"
      ]
     },
     "metadata": {},
     "output_type": "display_data"
    }
   ],
   "source": [
    "# Sort bowling_data by wickets taken in descending order and select top 10 players\n",
    "top_batsman = df.sort_values(by='Runs', ascending=False).head(10)\n",
    "\n",
    "# Plotting\n",
    "plt.figure(figsize=(10, 6))\n",
    "sns.scatterplot(x='Runs', y='Avg', data=top_batsman, hue='PLAYER', palette='Set1', s=100)\n",
    "plt.xlabel('Runs')\n",
    "plt.ylabel('Avg')\n",
    "plt.title('Top 10 Batsman: Runs vs Avg')\n",
    "plt.legend(bbox_to_anchor=(1.05, 1), loc='upper left')\n",
    "plt.grid(True)\n",
    "plt.show()"
   ]
  },
  {
   "cell_type": "code",
   "execution_count": 37,
   "id": "a1c44f43",
   "metadata": {},
   "outputs": [
    {
     "data": {
      "image/png": "[encoded data removed]",
      "text/plain": [
       "<Figure size 1000x600 with 1 Axes>"
      ]
     },
     "metadata": {},
     "output_type": "display_data"
    }
   ],
   "source": [
    "# Sort bowling_data by wickets taken in descending order and select top 10 players\n",
    "top_batsman = df.sort_values(by='Runs', ascending=False).head(10)\n",
    "\n",
    "# Plotting\n",
    "plt.figure(figsize=(10, 6))\n",
    "sns.scatterplot(x='Runs', y='SR', data=top_batsman, hue='PLAYER', palette='Set1', s=100)\n",
    "plt.xlabel('Runs')\n",
    "plt.ylabel('SR')\n",
    "plt.title('Top 10 Batsman: Runs vs SR')\n",
    "plt.legend(bbox_to_anchor=(1.05, 1), loc='upper left')\n",
    "plt.grid(True)\n",
    "plt.show()"
   ]
  },
  {
   "cell_type": "code",
   "execution_count": 15,
   "id": "eca0c995",
   "metadata": {},
   "outputs": [
    {
     "data": {
      "text/plain": [
       "Mat    -0.258035\n",
       "Inns    0.182776\n",
       "NO      1.164372\n",
       "Runs    1.127917\n",
       "HS      0.659920\n",
       "BF      0.992210\n",
       "SR      1.035922\n",
       "4s      1.319706\n",
       "6s      2.038659\n",
       "dtype: float64"
      ]
     },
     "execution_count": 15,
     "metadata": {},
     "output_type": "execute_result"
    }
   ],
   "source": [
    "# Assuming df is the dataframe\n",
    "skewness = numeric.apply(lambda x: x.skew())\n",
    "skewness"
   ]
  },
  {
   "cell_type": "code",
   "execution_count": 16,
   "id": "1321b831",
   "metadata": {},
   "outputs": [],
   "source": [
    "from sklearn.preprocessing import PowerTransformer\n",
    "\n",
    "\n",
    "# Select numerical columns for transformation\n",
    "numerical_columns = ['NO','Runs','HS','BF','SR','4s','6s']\n",
    "\n",
    "# Perform power transformation\n",
    "pt = PowerTransformer(method='yeo-johnson',standardize = True)\n",
    "df[numerical_columns] = pt.fit_transform(df[numerical_columns])"
   ]
  },
  {
   "cell_type": "code",
   "execution_count": 17,
   "id": "06191253",
   "metadata": {},
   "outputs": [
    {
     "data": {
      "text/plain": [
       "NO     -0.002631\n",
       "Runs   -0.065939\n",
       "HS     -0.071462\n",
       "BF     -0.068871\n",
       "SR      0.020872\n",
       "4s     -0.038614\n",
       "6s     -0.003141\n",
       "dtype: float64"
      ]
     },
     "execution_count": 17,
     "metadata": {},
     "output_type": "execute_result"
    }
   ],
   "source": [
    "df[numerical_columns].skew()"
   ]
  },
  {
   "cell_type": "code",
   "execution_count": 18,
   "id": "0014a6fc",
   "metadata": {},
   "outputs": [
    {
     "name": "stdout",
     "output_type": "stream",
     "text": [
      "Column: Mat\n",
      "IQR: 8.0\n",
      "Lower bound: -6.0\n",
      "Upper bound: 26.0\n",
      "------------------------------\n",
      "Column: Inns\n",
      "IQR: 9.0\n",
      "Lower bound: -9.5\n",
      "Upper bound: 26.5\n",
      "------------------------------\n",
      "Column: NO\n",
      "IQR: 2.244768480958526\n",
      "Lower bound: -4.744379343906491\n",
      "Upper bound: 4.234694579927613\n",
      "------------------------------\n",
      "Column: Runs\n",
      "IQR: 1.6998583922752166\n",
      "Lower bound: -3.3934069367362962\n",
      "Upper bound: 3.4060266323645703\n",
      "------------------------------\n",
      "Column: HS\n",
      "IQR: 1.5745661738356551\n",
      "Lower bound: -3.1649915622994853\n",
      "Upper bound: 3.133273133043135\n",
      "------------------------------\n",
      "Column: BF\n",
      "IQR: 1.697279633525107\n",
      "Lower bound: -3.397048307271217\n",
      "Upper bound: 3.392070226829211\n",
      "------------------------------\n",
      "Column: SR\n",
      "IQR: 1.1231849788349977\n",
      "Lower bound: -2.242286388196148\n",
      "Upper bound: 2.250453527143843\n",
      "------------------------------\n",
      "Column: 4s\n",
      "IQR: 1.5788511551874245\n",
      "Lower bound: -3.13638511416062\n",
      "Upper bound: 3.1790195065890785\n",
      "------------------------------\n",
      "Column: 6s\n",
      "IQR: 1.646374581819285\n",
      "Lower bound: -3.403978957004784\n",
      "Upper bound: 3.181519370272356\n",
      "------------------------------\n"
     ]
    }
   ],
   "source": [
    "import numpy as np\n",
    "\n",
    "# Define outlier threshold multiplier (consider 1.5 for standard definition)\n",
    "outlier_multiplier = 1.5\n",
    "\n",
    "for column in numeric:\n",
    "    # Calculate quartiles\n",
    "    q1 = df[column].quantile(.25)  # First quartile (25th percentile)\n",
    "    q3 = df[column].quantile(0.75)  # Third quartile (75th percentile)\n",
    "\n",
    "    # Calculate interquartile range (IQR)\n",
    "    iqr = q3 - q1\n",
    "\n",
    "    # Define lower and upper bounds for outliers\n",
    "    lower_bound = q1 - outlier_multiplier * iqr\n",
    "    upper_bound = q3 + outlier_multiplier * iqr\n",
    "\n",
    "    # Winsorization - Replace outliers with values at the specified quantiles\n",
    "    df[column] = np.where(df[column] < lower_bound, lower_bound, df[column])\n",
    "    df[column] = np.where(df[column] > upper_bound, upper_bound, df[column])\n",
    "\n",
    "    # Print information about outliers\n",
    "    print(f\"Column: {column}\")\n",
    "    print(f\"IQR: {iqr}\")\n",
    "    print(f\"Lower bound: {lower_bound}\")\n",
    "    print(f\"Upper bound: {upper_bound}\")\n",
    "    print(\"-\" * 30)\n",
    "\n",
    "# Save the modified dataset (if applicable)\n",
    "# df.to_csv(\"modified_dataset.csv\", index=False)"
   ]
  },
  {
   "cell_type": "code",
   "execution_count": 19,
   "id": "ea984411",
   "metadata": {},
   "outputs": [
    {
     "name": "stdout",
     "output_type": "stream",
     "text": [
      "Column: Mat\n",
      "Number of outliers detected: 0\n",
      "IQR: 8.0\n",
      "Lower bound: -6.0\n",
      "Upper bound: 26.0\n",
      "------------------------------\n",
      "Column: Inns\n",
      "Number of outliers detected: 0\n",
      "IQR: 9.0\n",
      "Lower bound: -9.5\n",
      "Upper bound: 26.5\n",
      "------------------------------\n",
      "Column: NO\n",
      "Number of outliers detected: 0\n",
      "IQR: 2.244768480958526\n",
      "Lower bound: -4.744379343906491\n",
      "Upper bound: 4.234694579927613\n",
      "------------------------------\n",
      "Column: Runs\n",
      "Number of outliers detected: 0\n",
      "IQR: 1.6998583922752166\n",
      "Lower bound: -3.3934069367362962\n",
      "Upper bound: 3.4060266323645703\n",
      "------------------------------\n",
      "Column: HS\n",
      "Number of outliers detected: 0\n",
      "IQR: 1.5745661738356551\n",
      "Lower bound: -3.1649915622994853\n",
      "Upper bound: 3.133273133043135\n",
      "------------------------------\n",
      "Column: BF\n",
      "Number of outliers detected: 0\n",
      "IQR: 1.697279633525107\n",
      "Lower bound: -3.397048307271217\n",
      "Upper bound: 3.392070226829211\n",
      "------------------------------\n",
      "Column: SR\n",
      "Number of outliers detected: 0\n",
      "IQR: 1.1231849788349977\n",
      "Lower bound: -2.242286388196148\n",
      "Upper bound: 2.250453527143843\n",
      "------------------------------\n",
      "Column: 4s\n",
      "Number of outliers detected: 0\n",
      "IQR: 1.5788511551874245\n",
      "Lower bound: -3.13638511416062\n",
      "Upper bound: 3.1790195065890785\n",
      "------------------------------\n",
      "Column: 6s\n",
      "Number of outliers detected: 0\n",
      "IQR: 1.646374581819285\n",
      "Lower bound: -3.403978957004784\n",
      "Upper bound: 3.181519370272356\n",
      "------------------------------\n"
     ]
    }
   ],
   "source": [
    "#Treating of Outliers\n",
    "# Define outlier threshold multiplier (consider 1.5 for standard definition)\n",
    "outlier_multiplier = 1.5\n",
    "\n",
    "for column in numeric:\n",
    "    # Calculate quartiles\n",
    "    q1 = df[column].quantile(0.25)\n",
    "    q3 = df[column].quantile(0.75)\n",
    "\n",
    "    # Calculate interquartile range (IQR)\n",
    "    iqr = q3 - q1\n",
    "\n",
    "    # Define lower and upper bounds\n",
    "    lower_bound = q1 - outlier_multiplier * iqr\n",
    "    upper_bound = q3 + outlier_multiplier * iqr\n",
    "\n",
    "    # Identify outliers\n",
    "    outliers = df[(df[column] < lower_bound) | (df[column] > upper_bound)]\n",
    "\n",
    "    # Choose your preferred treatment method:\n",
    "\n",
    "    # Option 1: Remove outliers (caution advised)\n",
    "    # df = df.drop(outliers.index)\n",
    "\n",
    "    # Option 2: Cap outliers to bounds\n",
    "    df.loc[df[column] < lower_bound, column] = lower_bound\n",
    "    df.loc[df[column] > upper_bound, column] = upper_bound\n",
    "\n",
    "    # Option 3: Replace outliers with median/mean (consider carefully)\n",
    "    df.loc[df[column] < lower_bound, column] = df[column].median()\n",
    "    df.loc[df[column] > upper_bound, column] = df[column].median()\n",
    "\n",
    "    # Print information about outliers\n",
    "    print(f\"Column: {column}\")\n",
    "    print(f\"Number of outliers detected: {len(outliers)}\")\n",
    "    print(f\"IQR: {iqr}\")\n",
    "    print(f\"Lower bound: {lower_bound}\")\n",
    "    print(f\"Upper bound: {upper_bound}\")\n",
    "    print(\"-\" * 30)\n",
    "\n",
    "# Save the modified dataset (if applicable)\n",
    "# df.to_csv(\"modified_dataset.csv\", index=False)"
   ]
  },
  {
   "cell_type": "code",
   "execution_count": 20,
   "id": "40bc2e30",
   "metadata": {},
   "outputs": [
    {
     "name": "stdout",
     "output_type": "stream",
     "text": [
      "t-statistic: 0.02212147378439398\n",
      "p-value: 0.9823531687433212\n",
      "Columns are independent (fail to reject null hypothesis)\n"
     ]
    }
   ],
   "source": [
    "import pandas as pd\n",
    "from scipy.stats import ttest_ind\n",
    "\n",
    "\n",
    "# Select 2 columns to test \n",
    "col1 = df['Runs']\n",
    "col2 = df['SR']\n",
    "\n",
    "# Perform t-test\n",
    "tstat, pval = ttest_ind(col1, col2)\n",
    "\n",
    "# Print results  \n",
    "print('t-statistic:', tstat) \n",
    "print('p-value:', pval)\n",
    "\n",
    "if pval < 0.05:\n",
    "  print('Columns are dependent (reject null hypothesis)')\n",
    "else:\n",
    "  print('Columns are independent (fail to reject null hypothesis)')"
   ]
  },
  {
   "cell_type": "code",
   "execution_count": 21,
   "id": "652a219e",
   "metadata": {},
   "outputs": [
    {
     "name": "stdout",
     "output_type": "stream",
     "text": [
      "t-statistic: -54.11412997010781\n",
      "p-value: 0.0\n",
      "Columns are dependent (reject null hypothesis)\n"
     ]
    }
   ],
   "source": [
    "import pandas as pd\n",
    "from scipy.stats import ttest_ind\n",
    "\n",
    "# Select 2 columns to test \n",
    "col1 = df['Runs']\n",
    "col2 = df['Avg']\n",
    "\n",
    "# Perform t-test\n",
    "tstat, pval = ttest_ind(col1, col2)\n",
    "\n",
    "# Print results  \n",
    "print('t-statistic:', tstat) \n",
    "print('p-value:', pval)\n",
    "\n",
    "if pval < 0.05:\n",
    "  print('Columns are dependent (reject null hypothesis)')\n",
    "else:\n",
    "  print('Columns are independent (fail to reject null hypothesis)')"
   ]
  },
  {
   "cell_type": "code",
   "execution_count": 22,
   "id": "7e19085b",
   "metadata": {},
   "outputs": [
    {
     "name": "stdout",
     "output_type": "stream",
     "text": [
      "t-statistic: 1.4789948134104416e-14\n",
      "p-value: 0.9999999999999882\n",
      "Columns are independent (fail to reject null hypothesis)\n"
     ]
    }
   ],
   "source": [
    "import pandas as pd\n",
    "from scipy.stats import ttest_ind\n",
    "\n",
    "# Select 2 columns to test \n",
    "col1 = df['Runs']\n",
    "col2 = df['BF']\n",
    "\n",
    "# Perform t-test\n",
    "tstat, pval = ttest_ind(col1, col2)\n",
    "\n",
    "# Print results  \n",
    "print('t-statistic:', tstat) \n",
    "print('p-value:', pval)\n",
    "\n",
    "if pval < 0.05:\n",
    "  print('Columns are dependent (reject null hypothesis)')\n",
    "else:\n",
    "  print('Columns are independent (fail to reject null hypothesis)')"
   ]
  },
  {
   "cell_type": "code",
   "execution_count": 23,
   "id": "5dbded7a",
   "metadata": {},
   "outputs": [
    {
     "name": "stdout",
     "output_type": "stream",
     "text": [
      "t-statistic: 3.027863397533188e-15\n",
      "p-value: 0.9999999999999976\n",
      "Columns are independent (fail to reject null hypothesis)\n"
     ]
    }
   ],
   "source": [
    "import pandas as pd\n",
    "from scipy.stats import ttest_ind\n",
    "\n",
    "# Select 2 columns to test \n",
    "col1 = df['Runs']\n",
    "col2 = df['HS']\n",
    "\n",
    "# Perform t-test\n",
    "tstat, pval = ttest_ind(col1, col2)\n",
    "\n",
    "# Print results  \n",
    "print('t-statistic:', tstat) \n",
    "print('p-value:', pval)\n",
    "\n",
    "if pval < 0.05:\n",
    "  print('Columns are dependent (reject null hypothesis)')\n",
    "else:\n",
    "  print('Columns are independent (fail to reject null hypothesis)')"
   ]
  },
  {
   "cell_type": "code",
   "execution_count": 24,
   "id": "9bde9ee8",
   "metadata": {},
   "outputs": [
    {
     "name": "stdout",
     "output_type": "stream",
     "text": [
      "t-statistic: 1.0267562418558054e-14\n",
      "p-value: 0.9999999999999918\n",
      "Columns are independent (fail to reject null hypothesis)\n"
     ]
    }
   ],
   "source": [
    "import pandas as pd\n",
    "from scipy.stats import ttest_ind\n",
    "\n",
    "\n",
    "# Select 2 columns to test \n",
    "col1 = df['Runs']\n",
    "col2 = df['4s']\n",
    "\n",
    "# Perform t-test\n",
    "tstat, pval = ttest_ind(col1, col2)\n",
    "\n",
    "# Print results  \n",
    "print('t-statistic:', tstat) \n",
    "print('p-value:', pval)\n",
    "\n",
    "if pval < 0.05:\n",
    "  print('Columns are dependent (reject null hypothesis)')\n",
    "else:\n",
    "  print('Columns are independent (fail to reject null hypothesis)')"
   ]
  },
  {
   "cell_type": "code",
   "execution_count": 25,
   "id": "e38de673",
   "metadata": {},
   "outputs": [
    {
     "name": "stdout",
     "output_type": "stream",
     "text": [
      "t-statistic: 1.498404194163859e-14\n",
      "p-value: 0.999999999999988\n",
      "Columns are independent (fail to reject null hypothesis)\n"
     ]
    }
   ],
   "source": [
    "import pandas as pd\n",
    "from scipy.stats import ttest_ind\n",
    "\n",
    "\n",
    "# Select 2 columns to test \n",
    "col1 = df['Runs']\n",
    "col2 = df['6s']\n",
    "\n",
    "# Perform t-test\n",
    "tstat, pval = ttest_ind(col1, col2)\n",
    "\n",
    "# Print results  \n",
    "print('t-statistic:', tstat) \n",
    "print('p-value:', pval)\n",
    "\n",
    "if pval < 0.05:\n",
    "  print('Columns are dependent (reject null hypothesis)')\n",
    "else:\n",
    "  print('Columns are independent (fail to reject null hypothesis)')"
   ]
  },
  {
   "cell_type": "code",
   "execution_count": 26,
   "id": "c493b633",
   "metadata": {},
   "outputs": [
    {
     "data": {
      "text/html": [
       "<div>\n",
       "<style scoped>\n",
       "    .dataframe tbody tr th:only-of-type {\n",
       "        vertical-align: middle;\n",
       "    }\n",
       "\n",
       "    .dataframe tbody tr th {\n",
       "        vertical-align: top;\n",
       "    }\n",
       "\n",
       "    .dataframe thead th {\n",
       "        text-align: right;\n",
       "    }\n",
       "</style>\n",
       "<table border=\"1\" class=\"dataframe\">\n",
       "  <thead>\n",
       "    <tr style=\"text-align: right;\">\n",
       "      <th></th>\n",
       "      <th>Mat</th>\n",
       "      <th>Inns</th>\n",
       "      <th>NO</th>\n",
       "      <th>Runs</th>\n",
       "      <th>HS</th>\n",
       "      <th>BF</th>\n",
       "      <th>SR</th>\n",
       "      <th>4s</th>\n",
       "      <th>6s</th>\n",
       "    </tr>\n",
       "  </thead>\n",
       "  <tbody>\n",
       "    <tr>\n",
       "      <th>0</th>\n",
       "      <td>12</td>\n",
       "      <td>12</td>\n",
       "      <td>2</td>\n",
       "      <td>692</td>\n",
       "      <td>100</td>\n",
       "      <td>481</td>\n",
       "      <td>143.86</td>\n",
       "      <td>57</td>\n",
       "      <td>21</td>\n",
       "    </tr>\n",
       "    <tr>\n",
       "      <th>1</th>\n",
       "      <td>14</td>\n",
       "      <td>14</td>\n",
       "      <td>3</td>\n",
       "      <td>593</td>\n",
       "      <td>100</td>\n",
       "      <td>438</td>\n",
       "      <td>135.38</td>\n",
       "      <td>49</td>\n",
       "      <td>25</td>\n",
       "    </tr>\n",
       "    <tr>\n",
       "      <th>2</th>\n",
       "      <td>16</td>\n",
       "      <td>16</td>\n",
       "      <td>1</td>\n",
       "      <td>529</td>\n",
       "      <td>81</td>\n",
       "      <td>398</td>\n",
       "      <td>132.91</td>\n",
       "      <td>45</td>\n",
       "      <td>25</td>\n",
       "    </tr>\n",
       "    <tr>\n",
       "      <th>3</th>\n",
       "      <td>16</td>\n",
       "      <td>16</td>\n",
       "      <td>1</td>\n",
       "      <td>521</td>\n",
       "      <td>97</td>\n",
       "      <td>384</td>\n",
       "      <td>135.67</td>\n",
       "      <td>64</td>\n",
       "      <td>11</td>\n",
       "    </tr>\n",
       "    <tr>\n",
       "      <th>4</th>\n",
       "      <td>14</td>\n",
       "      <td>13</td>\n",
       "      <td>4</td>\n",
       "      <td>510</td>\n",
       "      <td>80</td>\n",
       "      <td>249</td>\n",
       "      <td>204.81</td>\n",
       "      <td>31</td>\n",
       "      <td>52</td>\n",
       "    </tr>\n",
       "    <tr>\n",
       "      <th>...</th>\n",
       "      <td>...</td>\n",
       "      <td>...</td>\n",
       "      <td>...</td>\n",
       "      <td>...</td>\n",
       "      <td>...</td>\n",
       "      <td>...</td>\n",
       "      <td>...</td>\n",
       "      <td>...</td>\n",
       "      <td>...</td>\n",
       "    </tr>\n",
       "    <tr>\n",
       "      <th>1041</th>\n",
       "      <td>4</td>\n",
       "      <td>2</td>\n",
       "      <td>1</td>\n",
       "      <td>26</td>\n",
       "      <td>25</td>\n",
       "      <td>27</td>\n",
       "      <td>96.29</td>\n",
       "      <td>2</td>\n",
       "      <td>0</td>\n",
       "    </tr>\n",
       "    <tr>\n",
       "      <th>1042</th>\n",
       "      <td>3</td>\n",
       "      <td>3</td>\n",
       "      <td>0</td>\n",
       "      <td>25</td>\n",
       "      <td>16</td>\n",
       "      <td>31</td>\n",
       "      <td>80.64</td>\n",
       "      <td>4</td>\n",
       "      <td>0</td>\n",
       "    </tr>\n",
       "    <tr>\n",
       "      <th>1043</th>\n",
       "      <td>8</td>\n",
       "      <td>4</td>\n",
       "      <td>1</td>\n",
       "      <td>25</td>\n",
       "      <td>23</td>\n",
       "      <td>22</td>\n",
       "      <td>113.63</td>\n",
       "      <td>2</td>\n",
       "      <td>1</td>\n",
       "    </tr>\n",
       "    <tr>\n",
       "      <th>1044</th>\n",
       "      <td>4</td>\n",
       "      <td>3</td>\n",
       "      <td>1</td>\n",
       "      <td>24</td>\n",
       "      <td>9</td>\n",
       "      <td>22</td>\n",
       "      <td>109.09</td>\n",
       "      <td>2</td>\n",
       "      <td>1</td>\n",
       "    </tr>\n",
       "    <tr>\n",
       "      <th>1045</th>\n",
       "      <td>3</td>\n",
       "      <td>3</td>\n",
       "      <td>0</td>\n",
       "      <td>23</td>\n",
       "      <td>22</td>\n",
       "      <td>23</td>\n",
       "      <td>100.00</td>\n",
       "      <td>5</td>\n",
       "      <td>0</td>\n",
       "    </tr>\n",
       "  </tbody>\n",
       "</table>\n",
       "<p>1046 rows × 9 columns</p>\n",
       "</div>"
      ],
      "text/plain": [
       "      Mat  Inns  NO  Runs   HS   BF      SR  4s  6s\n",
       "0      12    12   2   692  100  481  143.86  57  21\n",
       "1      14    14   3   593  100  438  135.38  49  25\n",
       "2      16    16   1   529   81  398  132.91  45  25\n",
       "3      16    16   1   521   97  384  135.67  64  11\n",
       "4      14    13   4   510   80  249  204.81  31  52\n",
       "...   ...   ...  ..   ...  ...  ...     ...  ..  ..\n",
       "1041    4     2   1    26   25   27   96.29   2   0\n",
       "1042    3     3   0    25   16   31   80.64   4   0\n",
       "1043    8     4   1    25   23   22  113.63   2   1\n",
       "1044    4     3   1    24    9   22  109.09   2   1\n",
       "1045    3     3   0    23   22   23  100.00   5   0\n",
       "\n",
       "[1046 rows x 9 columns]"
      ]
     },
     "execution_count": 26,
     "metadata": {},
     "output_type": "execute_result"
    }
   ],
   "source": [
    "numeric"
   ]
  },
  {
   "cell_type": "code",
   "execution_count": 29,
   "id": "1267a6d3",
   "metadata": {},
   "outputs": [
    {
     "name": "stdout",
     "output_type": "stream",
     "text": [
      "POS vs Mat:\n",
      "  t-statistic: 44.319\n",
      "  p-value: 0.000\n",
      "Columns are dependent (reject H0)\n",
      "POS vs Inns:\n",
      "  t-statistic: 46.375\n",
      "  p-value: 0.000\n",
      "Columns are dependent (reject H0)\n",
      "POS vs NO:\n",
      "  t-statistic: 56.423\n",
      "  p-value: 0.000\n",
      "Columns are dependent (reject H0)\n",
      "POS vs Runs:\n",
      "  t-statistic: 56.423\n",
      "  p-value: 0.000\n",
      "Columns are dependent (reject H0)\n",
      "POS vs HS:\n",
      "  t-statistic: 56.423\n",
      "  p-value: 0.000\n",
      "Columns are dependent (reject H0)\n",
      "POS vs Avg:\n",
      "  t-statistic: 26.183\n",
      "  p-value: 0.000\n",
      "Columns are dependent (reject H0)\n",
      "POS vs BF:\n",
      "  t-statistic: 56.423\n",
      "  p-value: 0.000\n",
      "Columns are dependent (reject H0)\n",
      "POS vs SR:\n",
      "  t-statistic: 56.428\n",
      "  p-value: 0.000\n",
      "Columns are dependent (reject H0)\n",
      "POS vs 4s:\n",
      "  t-statistic: 56.423\n",
      "  p-value: 0.000\n",
      "Columns are dependent (reject H0)\n",
      "POS vs 6s:\n",
      "  t-statistic: 56.423\n",
      "  p-value: 0.000\n",
      "Columns are dependent (reject H0)\n",
      "Mat vs Inns:\n",
      "  t-statistic: 9.235\n",
      "  p-value: 0.000\n",
      "Columns are dependent (reject H0)\n",
      "Mat vs NO:\n",
      "  t-statistic: 71.061\n",
      "  p-value: 0.000\n",
      "Columns are dependent (reject H0)\n",
      "Mat vs Runs:\n",
      "  t-statistic: 71.061\n",
      "  p-value: 0.000\n",
      "Columns are dependent (reject H0)\n",
      "Mat vs HS:\n",
      "  t-statistic: 71.061\n",
      "  p-value: 0.000\n",
      "Columns are dependent (reject H0)\n",
      "Mat vs Avg:\n",
      "  t-statistic: -29.664\n",
      "  p-value: 0.000\n",
      "Columns are dependent (reject H0)\n",
      "Mat vs BF:\n",
      "  t-statistic: 71.061\n",
      "  p-value: 0.000\n",
      "Columns are dependent (reject H0)\n",
      "Mat vs SR:\n",
      "  t-statistic: 71.236\n",
      "  p-value: 0.000\n",
      "Columns are dependent (reject H0)\n",
      "Mat vs 4s:\n",
      "  t-statistic: 71.061\n",
      "  p-value: 0.000\n",
      "Columns are dependent (reject H0)\n",
      "Mat vs 6s:\n",
      "  t-statistic: 71.061\n",
      "  p-value: 0.000\n",
      "Columns are dependent (reject H0)\n",
      "Inns vs NO:\n",
      "  t-statistic: 59.383\n",
      "  p-value: 0.000\n",
      "Columns are dependent (reject H0)\n",
      "Inns vs Runs:\n",
      "  t-statistic: 59.383\n",
      "  p-value: 0.000\n",
      "Columns are dependent (reject H0)\n",
      "Inns vs HS:\n",
      "  t-statistic: 59.383\n",
      "  p-value: 0.000\n",
      "Columns are dependent (reject H0)\n",
      "Inns vs Avg:\n",
      "  t-statistic: -33.640\n",
      "  p-value: 0.000\n",
      "Columns are dependent (reject H0)\n",
      "Inns vs BF:\n",
      "  t-statistic: 59.383\n",
      "  p-value: 0.000\n",
      "Columns are dependent (reject H0)\n",
      "Inns vs SR:\n",
      "  t-statistic: 59.535\n",
      "  p-value: 0.000\n",
      "Columns are dependent (reject H0)\n",
      "Inns vs 4s:\n",
      "  t-statistic: 59.383\n",
      "  p-value: 0.000\n",
      "Columns are dependent (reject H0)\n",
      "Inns vs 6s:\n",
      "  t-statistic: 59.383\n",
      "  p-value: 0.000\n",
      "Columns are dependent (reject H0)\n",
      "NO vs Runs:\n",
      "  t-statistic: -0.000\n",
      "  p-value: 1.000\n",
      "Columns are independent (fail to reject H0)\n",
      "NO vs HS:\n",
      "  t-statistic: -0.000\n",
      "  p-value: 1.000\n",
      "Columns are independent (fail to reject H0)\n",
      "NO vs Avg:\n",
      "  t-statistic: -54.114\n",
      "  p-value: 0.000\n",
      "Columns are dependent (reject H0)\n",
      "NO vs BF:\n",
      "  t-statistic: 0.000\n",
      "  p-value: 1.000\n",
      "Columns are independent (fail to reject H0)\n",
      "NO vs SR:\n",
      "  t-statistic: 0.022\n",
      "  p-value: 0.982\n",
      "Columns are independent (fail to reject H0)\n",
      "NO vs 4s:\n",
      "  t-statistic: 0.000\n",
      "  p-value: 1.000\n",
      "Columns are independent (fail to reject H0)\n",
      "NO vs 6s:\n",
      "  t-statistic: 0.000\n",
      "  p-value: 1.000\n",
      "Columns are independent (fail to reject H0)\n",
      "Runs vs HS:\n",
      "  t-statistic: 0.000\n",
      "  p-value: 1.000\n",
      "Columns are independent (fail to reject H0)\n",
      "Runs vs Avg:\n",
      "  t-statistic: -54.114\n",
      "  p-value: 0.000\n",
      "Columns are dependent (reject H0)\n",
      "Runs vs BF:\n",
      "  t-statistic: 0.000\n",
      "  p-value: 1.000\n",
      "Columns are independent (fail to reject H0)\n",
      "Runs vs SR:\n",
      "  t-statistic: 0.022\n",
      "  p-value: 0.982\n",
      "Columns are independent (fail to reject H0)\n",
      "Runs vs 4s:\n",
      "  t-statistic: 0.000\n",
      "  p-value: 1.000\n",
      "Columns are independent (fail to reject H0)\n",
      "Runs vs 6s:\n",
      "  t-statistic: 0.000\n",
      "  p-value: 1.000\n",
      "Columns are independent (fail to reject H0)\n",
      "HS vs Avg:\n",
      "  t-statistic: -54.114\n",
      "  p-value: 0.000\n",
      "Columns are dependent (reject H0)\n",
      "HS vs BF:\n",
      "  t-statistic: 0.000\n",
      "  p-value: 1.000\n",
      "Columns are independent (fail to reject H0)\n",
      "HS vs SR:\n",
      "  t-statistic: 0.022\n",
      "  p-value: 0.982\n",
      "Columns are independent (fail to reject H0)\n",
      "HS vs 4s:\n",
      "  t-statistic: 0.000\n",
      "  p-value: 1.000\n",
      "Columns are independent (fail to reject H0)\n",
      "HS vs 6s:\n",
      "  t-statistic: 0.000\n",
      "  p-value: 1.000\n",
      "Columns are independent (fail to reject H0)\n",
      "Avg vs BF:\n",
      "  t-statistic: 54.114\n",
      "  p-value: 0.000\n",
      "Columns are dependent (reject H0)\n",
      "Avg vs SR:\n",
      "  t-statistic: 54.130\n",
      "  p-value: 0.000\n",
      "Columns are dependent (reject H0)\n",
      "Avg vs 4s:\n",
      "  t-statistic: 54.114\n",
      "  p-value: 0.000\n",
      "Columns are dependent (reject H0)\n",
      "Avg vs 6s:\n",
      "  t-statistic: 54.114\n",
      "  p-value: 0.000\n",
      "Columns are dependent (reject H0)\n",
      "BF vs SR:\n",
      "  t-statistic: 0.022\n",
      "  p-value: 0.982\n",
      "Columns are independent (fail to reject H0)\n",
      "BF vs 4s:\n",
      "  t-statistic: -0.000\n",
      "  p-value: 1.000\n",
      "Columns are independent (fail to reject H0)\n",
      "BF vs 6s:\n",
      "  t-statistic: 0.000\n",
      "  p-value: 1.000\n",
      "Columns are independent (fail to reject H0)\n",
      "SR vs 4s:\n",
      "  t-statistic: -0.022\n",
      "  p-value: 0.982\n",
      "Columns are independent (fail to reject H0)\n",
      "SR vs 6s:\n",
      "  t-statistic: -0.022\n",
      "  p-value: 0.982\n",
      "Columns are independent (fail to reject H0)\n",
      "4s vs 6s:\n",
      "  t-statistic: 0.000\n",
      "  p-value: 1.000\n",
      "Columns are independent (fail to reject H0)\n"
     ]
    }
   ],
   "source": [
    "import pandas as pd\n",
    "from scipy.stats import ttest_ind \n",
    "\n",
    "\n",
    "# List of columns to exclude \n",
    "exclude_cols = ['Season', '100', '50']  \n",
    "\n",
    "# Get numeric columns excluding given columns\n",
    "num_cols = df.select_dtypes(include=['int64', 'float64']).drop(columns=exclude_cols).columns\n",
    "\n",
    "# Perform t-test on pairs of numeric columns\n",
    "for i in range(len(num_cols)):\n",
    "  for j in range(i+1, len(num_cols)):\n",
    "    col1 = df[num_cols[i]]\n",
    "    col2 = df[num_cols[j]]\n",
    "    \n",
    "    tstat, pval = ttest_ind(col1, col2)\n",
    "    \n",
    "    print(f'{num_cols[i]} vs {num_cols[j]}:') \n",
    "    print(f'  t-statistic: {tstat:.3f}')\n",
    "    print(f'  p-value: {pval:.3f}')\n",
    "\n",
    "    if pval < 0.05:\n",
    "      print('Columns are dependent (reject H0)')\n",
    "    else:\n",
    "      print('Columns are independent (fail to reject H0)')"
   ]
  },
  {
   "cell_type": "markdown",
   "id": "9fba67c3",
   "metadata": {},
   "source": [
    "### Analyze batting averages of players over different IPL seasons to identify trends and top performers."
   ]
  },
  {
   "cell_type": "code",
   "execution_count": null,
   "id": "16a0f992",
   "metadata": {},
   "outputs": [],
   "source": [
    "import pandas as pd\n",
    "\n",
    "\n",
    "# Keep 'PLAYER', 'Avg' and 'Season' columns \n",
    "df1 = df[['PLAYER', 'Avg', 'Season']] \n",
    "\n",
    "mean_avg_by_season = df1.groupby('Season').Avg.mean()\n",
    "\n",
    "print(mean_avg_by_season)\n",
    "\n",
    "# Sort by 'Avg' and print top 10 rows with 'PLAYER' and 'Avg' columns\n",
    "print(df1.sort_values('Avg', ascending=False)[['PLAYER', 'Avg']].head(10))\n",
    "\n",
    "mean_avg_by_season.plot()"
   ]
  },
  {
   "cell_type": "markdown",
   "id": "14e5c152",
   "metadata": {},
   "source": [
    "### Compare strike rates of batsmen to determine most aggressive batsmen."
   ]
  },
  {
   "cell_type": "code",
   "execution_count": null,
   "id": "306c7952",
   "metadata": {},
   "outputs": [],
   "source": [
    "import pandas as pd\n",
    "\n",
    "data = df\n",
    "\n",
    "# Calculate the strike rate for each player\n",
    "data['Strike Rate'] = (data['Runs'] / data['BF']) * 100\n",
    "\n",
    "# Sort the DataFrame by strike rate in descending order\n",
    "sorted_data = data.sort_values(by='Strike Rate', ascending=False)\n",
    "\n",
    "# Get the most aggressive batsman\n",
    "most_aggressive_batsman = sorted_data.iloc[0]['PLAYER']\n",
    "\n",
    "# Display the result\n",
    "print(\"Most Aggressive Batsman:\", most_aggressive_batsman)"
   ]
  },
  {
   "cell_type": "markdown",
   "id": "ef972bd2",
   "metadata": {},
   "source": [
    "### Rank batsmen based on different batting metrics like average, strike rate, consistency etc."
   ]
  },
  {
   "cell_type": "code",
   "execution_count": null,
   "id": "c5dc0702",
   "metadata": {},
   "outputs": [],
   "source": [
    "# Importing necessary libraries\n",
    "import pandas as pd\n",
    "\n",
    "# Read the CSV file into a pandas DataFrame\n",
    "data = df\n",
    "# Extract relevant columns for ranking\n",
    "columns = ['PLAYER', 'Avg', 'Strike Rate', 'Mat', 'Inns', 'Runs']\n",
    "\n",
    "# Subset the data with relevant columns\n",
    "subset_data = data[columns]\n",
    "\n",
    "# Calculate additional metrics for ranking\n",
    "subset_data['Consistency'] = subset_data['Runs'] / subset_data['Inns']\n",
    "subset_data['Ranking Score'] = (subset_data['Avg'] * subset_data['Strike Rate']) / subset_data['Consistency']\n",
    "\n",
    "# Sort the DataFrame by ranking score in descending order\n",
    "sorted_data = subset_data.sort_values(by='Ranking Score', ascending=False)\n",
    "\n",
    "# Display the ranked batsmen from Rank 1 to Rank 1000\n",
    "print(\"Ranking of Batsmen:\")\n",
    "for i, row in sorted_data.head(1000).iterrows():\n",
    "    print(f\"Rank {i+1}: {row['PLAYER']} (Avg: {row['Avg']}, Strike Rate: {row['Strike Rate']}, Consistency: {row['Consistency']})\")"
   ]
  },
  {
   "cell_type": "markdown",
   "id": "d37c25ca",
   "metadata": {},
   "source": [
    "### Evaluate the impact of player nationality on performance."
   ]
  },
  {
   "cell_type": "code",
   "execution_count": null,
   "id": "fb38f83f",
   "metadata": {},
   "outputs": [],
   "source": [
    "import pandas as pd\n",
    "\n",
    "# Read the CSV file into a pandas DataFrame\n",
    "data = df\n",
    "\n",
    "# Extract relevant columns for analysis\n",
    "columns = ['PLAYER', 'Avg', 'Strike Rate', 'Nationality']\n",
    "\n",
    "# Subset the data with relevant columns\n",
    "subset_data = data[columns]\n",
    "\n",
    "# Group data by nationality and calculate average batting average and strike rate\n",
    "nationality_avg = subset_data.groupby('Nationality').agg({'Avg': 'mean', 'Strike Rate': 'mean'}).reset_index()\n",
    "\n",
    "# Calculate the impact of nationality on performance\n",
    "nationality_avg['Impact'] = nationality_avg['Avg'] + nationality_avg['Strike Rate']\n",
    "\n",
    "# Sort the data by impact in descending order\n",
    "sorted_data = nationality_avg.sort_values(by='Impact', ascending=False)\n",
    "\n",
    "# Display the impact of nationality on performance\n",
    "print(\"Impact of Nationality on Performance:\")\n",
    "for i, row in sorted_data.iterrows():\n",
    "    print(f\"{row['Nationality']}: {row['Impact']}\")"
   ]
  },
  {
   "cell_type": "markdown",
   "id": "c7e8b3e6",
   "metadata": {},
   "source": [
    "### Develop a statistical model for match outcome prediction."
   ]
  },
  {
   "cell_type": "code",
   "execution_count": null,
   "id": "9b5f668d",
   "metadata": {},
   "outputs": [],
   "source": [
    "# Importing necessary libraries\n",
    "import pandas as pd\n",
    "from sklearn.model_selection import train_test_split\n",
    "from sklearn.linear_model import LogisticRegression\n",
    "from sklearn.metrics import accuracy_score\n",
    "\n",
    "data = df\n",
    "\n",
    "# Data preprocessing\n",
    "# Add code for data preprocessing if needed\n",
    "\n",
    "# Define features and target variable\n",
    "X = data[['Mat', 'Inns', 'NO', 'Runs', 'HS', 'Avg', 'BF', 'SR', '100', '50', '4s', '6s']]\n",
    "y = data['Nationality']\n",
    "\n",
    "# Split the data into training and testing sets\n",
    "X_train, X_test, y_train, y_test = train_test_split(X, y, test_size=0.2, random_state=42)\n",
    "\n",
    "# Initialize the model\n",
    "model = LogisticRegression()\n",
    "\n",
    "# Train the model\n",
    "model.fit(X_train, y_train)\n",
    "\n",
    "# Make predictions\n",
    "predictions = model.predict(X_test)\n",
    "\n",
    "# Calculate the accuracy of the model\n",
    "accuracy = accuracy_score(y_test, predictions)\n",
    "print(\"Accuracy of the model: {:.2f}\".format(accuracy))"
   ]
  },
  {
   "cell_type": "markdown",
   "id": "0fc2f3de",
   "metadata": {},
   "source": [
    "### SVM"
   ]
  },
  {
   "cell_type": "code",
   "execution_count": null,
   "id": "e5176aad",
   "metadata": {},
   "outputs": [],
   "source": [
    "# Importing necessary libraries\n",
    "from sklearn.svm import SVC\n",
    "from sklearn.model_selection import train_test_split\n",
    "\n",
    "data = df\n",
    "\n",
    "# Data preprocessing\n",
    "# Add code for data preprocessing if needed\n",
    "\n",
    "# Define features and target variable\n",
    "X = data[['Mat', 'Inns', 'NO', 'Runs', 'HS', 'Avg', 'BF', 'SR', '100', '50', '4s', '6s']]\n",
    "y = data['Nationality']\n",
    "\n",
    "# Split the data into training and testing sets\n",
    "X_train, X_test, y_train, y_test = train_test_split(X, y, test_size=0.2, random_state=42)\n",
    "\n",
    "# Initialize the SVM model\n",
    "model = SVC()\n",
    "\n",
    "# Train the model\n",
    "model.fit(X_train, y_train)\n",
    "\n",
    "# Make predictions\n",
    "predictions = model.predict(X_test)\n",
    "\n",
    "# Calculate the accuracy of the model\n",
    "accuracy = accuracy_score(y_test, predictions)\n",
    "print(\"Accuracy of the model: {:.2f}\".format(accuracy))"
   ]
  },
  {
   "cell_type": "markdown",
   "id": "70b79a11",
   "metadata": {},
   "source": [
    "### Decision Trees"
   ]
  },
  {
   "cell_type": "code",
   "execution_count": null,
   "id": "5a191463",
   "metadata": {},
   "outputs": [],
   "source": [
    "# Importing necessary libraries\n",
    "from sklearn.tree import DecisionTreeClassifier\n",
    "from sklearn.model_selection import train_test_split\n",
    "\n",
    "data = df\n",
    "\n",
    "# Data preprocessing\n",
    "# Add code for data preprocessing if needed\n",
    "\n",
    "# Define features and target variable\n",
    "X = data[['Mat', 'Inns', 'NO', 'Runs', 'HS', 'Avg', 'BF', 'SR', '100', '50', '4s', '6s']]\n",
    "y = data['Nationality']\n",
    "\n",
    "# Split the data into training and testing sets\n",
    "X_train, X_test, y_train, y_test = train_test_split(X, y, test_size=0.2, random_state=42)\n",
    "\n",
    "# Initialize the decision tree model\n",
    "model = DecisionTreeClassifier()\n",
    "\n",
    "# Train the model\n",
    "model.fit(X_train, y_train)\n",
    "\n",
    "# Make predictions\n",
    "predictions = model.predict(X_test)\n",
    "\n",
    "# Calculate the accuracy of the model\n",
    "accuracy = accuracy_score(y_test, predictions)\n",
    "print(\"Accuracy of the model: {:.2f}\".format(accuracy))"
   ]
  },
  {
   "cell_type": "markdown",
   "id": "ee1b91e9",
   "metadata": {},
   "source": [
    "### Linear Regression"
   ]
  },
  {
   "cell_type": "code",
   "execution_count": 43,
   "id": "f8906cc6",
   "metadata": {},
   "outputs": [
    {
     "name": "stdout",
     "output_type": "stream",
     "text": [
      "Model Summary:\n",
      "Coefficients: [ 4.95578737e-04 -1.11959148e-03  4.47140626e-03  9.13662131e-03\n",
      "  4.32151670e-04  8.71711023e-01  1.63644137e-01  6.73697249e-03\n",
      " -2.54107829e-03  4.50534377e-02  3.92704806e-02]\n",
      "Intercept: -0.004228955377893509\n",
      "Mean Squared Error: 0.0011191872922178153\n",
      "R-squared: 0.9989535320445284\n"
     ]
    }
   ],
   "source": [
    "import pandas as pd\n",
    "from sklearn.model_selection import train_test_split\n",
    "from sklearn.linear_model import LinearRegression\n",
    "from sklearn.metrics import mean_squared_error, r2_score\n",
    "\n",
    "# Load the dataset\n",
    "data = df\n",
    "\n",
    "# Select the features (independent variables) and target variable (dependent variable)\n",
    "features = data[['Mat', 'Inns', 'NO', 'HS', 'Avg', 'BF', 'SR', '100', '50', '4s', '6s']]\n",
    "target = data['Runs']\n",
    "\n",
    "# Split the dataset into training and testing sets\n",
    "X_train, X_test, y_train, y_test = train_test_split(features, target, test_size=0.2, random_state=42)\n",
    "\n",
    "# Create a linear regression model\n",
    "model = LinearRegression()\n",
    "\n",
    "# Train the model\n",
    "model.fit(X_train, y_train)\n",
    "\n",
    "# Make predictions on the test set\n",
    "y_pred = model.predict(X_test)\n",
    "\n",
    "# Evaluate the model\n",
    "mse = mean_squared_error(y_test, y_pred)\n",
    "r2 = r2_score(y_test, y_pred)\n",
    "\n",
    "# Get the model summary\n",
    "coefficients = model.coef_\n",
    "intercept = model.intercept_\n",
    "\n",
    "# Print the model summary\n",
    "print('Model Summary:')\n",
    "print('Coefficients:', coefficients)\n",
    "print('Intercept:', intercept)\n",
    "print('Mean Squared Error:', mse)\n",
    "print('R-squared:', r2)"
   ]
  },
  {
   "cell_type": "code",
   "execution_count": null,
   "id": "26f95585",
   "metadata": {},
   "outputs": [],
   "source": []
  }
 ],
 "metadata": {
  "kernelspec": {
   "display_name": "Python 3 (ipykernel)",
   "language": "python",
   "name": "python3"
  },
  "language_info": {
   "codemirror_mode": {
    "name": "ipython",
    "version": 3
   },
   "file_extension": ".py",
   "mimetype": "text/x-python",
   "name": "python",
   "nbconvert_exporter": "python",
   "pygments_lexer": "ipython3",
   "version": "3.11.3"
  }
 },
 "nbformat": 4,
 "nbformat_minor": 5
}
